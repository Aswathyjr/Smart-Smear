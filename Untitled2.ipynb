{
 "cells": [
  {
   "cell_type": "code",
   "execution_count": null,
   "id": "80846278",
   "metadata": {},
   "outputs": [],
   "source": [
    "def predict_image(model, input_tensor):\n",
    "    # ... (existing code)\n",
    "    predicted_class = torch.argmax(probabilities).item()\n",
    "    print(predicted_class)\n",
    "    return predicted_class, probabilities  # Return class and probabilities (optional)\n"
   ]
  }
 ],
 "metadata": {
  "kernelspec": {
   "display_name": "Python 3 (ipykernel)",
   "language": "python",
   "name": "python3"
  },
  "language_info": {
   "codemirror_mode": {
    "name": "ipython",
    "version": 3
   },
   "file_extension": ".py",
   "mimetype": "text/x-python",
   "name": "python",
   "nbconvert_exporter": "python",
   "pygments_lexer": "ipython3",
   "version": "3.11.5"
  }
 },
 "nbformat": 4,
 "nbformat_minor": 5
}
