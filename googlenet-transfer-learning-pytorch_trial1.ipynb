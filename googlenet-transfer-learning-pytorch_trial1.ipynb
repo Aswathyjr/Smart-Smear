{
 "cells": [
  {
   "cell_type": "code",
   "execution_count": 1,
   "id": "c12e9f51",
   "metadata": {
    "_cell_guid": "b1076dfc-b9ad-4769-8c92-a6c4dae69d19",
    "_uuid": "8f2839f25d086af736a60e9eeb907d3b93b6e0e5",
    "execution": {
     "iopub.execute_input": "2023-12-15T07:03:57.250814Z",
     "iopub.status.busy": "2023-12-15T07:03:57.250060Z",
     "iopub.status.idle": "2023-12-15T07:04:00.282236Z",
     "shell.execute_reply": "2023-12-15T07:04:00.282768Z",
     "shell.execute_reply.started": "2022-01-04T21:00:06.514359Z"
    },
    "papermill": {
     "duration": 3.068613,
     "end_time": "2023-12-15T07:04:00.283063",
     "exception": false,
     "start_time": "2023-12-15T07:03:57.214450",
     "status": "completed"
    },
    "tags": []
   },
   "outputs": [],
   "source": [
    "# Imports\n",
    "import torch\n",
    "import torch.nn as nn  # All neural network modules, nn.Linear, nn.Conv2d, BatchNorm, Loss functions\n",
    "import torch.optim as optim  # For all Optimization algorithms, SGD, Adam, etc.\n",
    "import torchvision.transforms as transforms  # Transformations we can perform on our dataset\n",
    "import torchvision\n",
    "import os\n",
    "import pandas as pd\n",
    "from tqdm import tqdm\n",
    "from skimage import io\n",
    "from skimage.transform import rescale, resize, downscale_local_mean\n",
    "from torch.utils.data import (\n",
    "    Dataset,\n",
    "    DataLoader,\n",
    ")  # Gives easier dataset managment and creates mini batches"
   ]
  },
  {
   "cell_type": "code",
   "execution_count": 2,
   "id": "00e34e5f",
   "metadata": {
    "execution": {
     "iopub.execute_input": "2023-12-15T07:04:00.314603Z",
     "iopub.status.busy": "2023-12-15T07:04:00.313978Z",
     "iopub.status.idle": "2023-12-15T07:04:18.899159Z",
     "shell.execute_reply": "2023-12-15T07:04:18.898572Z",
     "shell.execute_reply.started": "2022-01-04T21:00:07.512227Z"
    },
    "papermill": {
     "duration": 18.602692,
     "end_time": "2023-12-15T07:04:18.899304",
     "exception": false,
     "start_time": "2023-12-15T07:04:00.296612",
     "status": "completed"
    },
    "tags": []
   },
   "outputs": [
    {
     "name": "stdout",
     "output_type": "stream",
     "text": [
      "Collecting torch-summary\r\n",
      "  Downloading torch_summary-1.4.5-py3-none-any.whl (16 kB)\r\n",
      "Installing collected packages: torch-summary\r\n",
      "Successfully installed torch-summary-1.4.5\r\n",
      "\u001b[33mWARNING: Running pip as the 'root' user can result in broken permissions and conflicting behaviour with the system package manager. It is recommended to use a virtual environment instead: https://pip.pypa.io/warnings/venv\u001b[0m\r\n",
      "Requirement already satisfied: tqdm in /opt/conda/lib/python3.7/site-packages (4.62.3)\r\n",
      "\u001b[33mWARNING: Running pip as the 'root' user can result in broken permissions and conflicting behaviour with the system package manager. It is recommended to use a virtual environment instead: https://pip.pypa.io/warnings/venv\u001b[0m\r\n"
     ]
    }
   ],
   "source": [
    "!pip install torch-summary\n",
    "!pip install tqdm"
   ]
  },
  {
   "cell_type": "code",
   "execution_count": 18,
   "id": "817612a0",
   "metadata": {},
   "outputs": [
    {
     "data": {
      "text/html": [
       "<div>\n",
       "<style scoped>\n",
       "    .dataframe tbody tr th:only-of-type {\n",
       "        vertical-align: middle;\n",
       "    }\n",
       "\n",
       "    .dataframe tbody tr th {\n",
       "        vertical-align: top;\n",
       "    }\n",
       "\n",
       "    .dataframe thead th {\n",
       "        text-align: right;\n",
       "    }\n",
       "</style>\n",
       "<table border=\"1\" class=\"dataframe\">\n",
       "  <thead>\n",
       "    <tr style=\"text-align: right;\">\n",
       "      <th></th>\n",
       "      <th>image</th>\n",
       "      <th>labels</th>\n",
       "    </tr>\n",
       "  </thead>\n",
       "  <tbody>\n",
       "    <tr>\n",
       "      <th>0</th>\n",
       "      <td>cluster.1 (2).jpg</td>\n",
       "      <td>1</td>\n",
       "    </tr>\n",
       "    <tr>\n",
       "      <th>1</th>\n",
       "      <td>cluster.1.jpg</td>\n",
       "      <td>1</td>\n",
       "    </tr>\n",
       "    <tr>\n",
       "      <th>2</th>\n",
       "      <td>cluster.10 (2).jpg</td>\n",
       "      <td>1</td>\n",
       "    </tr>\n",
       "    <tr>\n",
       "      <th>3</th>\n",
       "      <td>cluster.10.jpg</td>\n",
       "      <td>1</td>\n",
       "    </tr>\n",
       "    <tr>\n",
       "      <th>4</th>\n",
       "      <td>cluster.104 (2).jpg</td>\n",
       "      <td>1</td>\n",
       "    </tr>\n",
       "    <tr>\n",
       "      <th>...</th>\n",
       "      <td>...</td>\n",
       "      <td>...</td>\n",
       "    </tr>\n",
       "    <tr>\n",
       "      <th>1789</th>\n",
       "      <td>non_cluster.97.jpg</td>\n",
       "      <td>0</td>\n",
       "    </tr>\n",
       "    <tr>\n",
       "      <th>1790</th>\n",
       "      <td>non_cluster.98 (2).jpg</td>\n",
       "      <td>0</td>\n",
       "    </tr>\n",
       "    <tr>\n",
       "      <th>1791</th>\n",
       "      <td>non_cluster.98.jpg</td>\n",
       "      <td>0</td>\n",
       "    </tr>\n",
       "    <tr>\n",
       "      <th>1792</th>\n",
       "      <td>non_cluster.99 (2).jpg</td>\n",
       "      <td>0</td>\n",
       "    </tr>\n",
       "    <tr>\n",
       "      <th>1793</th>\n",
       "      <td>non_cluster.99.jpg</td>\n",
       "      <td>0</td>\n",
       "    </tr>\n",
       "  </tbody>\n",
       "</table>\n",
       "<p>1794 rows × 2 columns</p>\n",
       "</div>"
      ],
      "text/plain": [
       "                       image  labels\n",
       "0          cluster.1 (2).jpg       1\n",
       "1              cluster.1.jpg       1\n",
       "2         cluster.10 (2).jpg       1\n",
       "3             cluster.10.jpg       1\n",
       "4        cluster.104 (2).jpg       1\n",
       "...                      ...     ...\n",
       "1789      non_cluster.97.jpg       0\n",
       "1790  non_cluster.98 (2).jpg       0\n",
       "1791      non_cluster.98.jpg       0\n",
       "1792  non_cluster.99 (2).jpg       0\n",
       "1793      non_cluster.99.jpg       0\n",
       "\n",
       "[1794 rows x 2 columns]"
      ]
     },
     "execution_count": 18,
     "metadata": {},
     "output_type": "execute_result"
    }
   ],
   "source": [
    "filenames = os.listdir(\"E:\\\\JK\\\\Vt\\\\dataset_vit_1024\\\\train\")\n",
    "categories = []\n",
    "for filename in filenames:\n",
    "    category = filename.split('.')[0]\n",
    "    if category == 'cluster':\n",
    "        categories.append(1)\n",
    "    else:\n",
    "        categories.append(0)\n",
    "\n",
    "df = pd.DataFrame({\n",
    "    'image': filenames,\n",
    "    'labels': categories\n",
    "    \n",
    "})\n",
    "df"
   ]
  },
  {
   "cell_type": "code",
   "execution_count": 3,
   "id": "70fde527",
   "metadata": {},
   "outputs": [],
   "source": [
    "df.to_csv('file2.csv', index=False)"
   ]
  },
  {
   "cell_type": "code",
   "execution_count": 4,
   "id": "3c3d358b",
   "metadata": {
    "execution": {
     "iopub.execute_input": "2023-12-15T07:04:18.938937Z",
     "iopub.status.busy": "2023-12-15T07:04:18.938242Z",
     "iopub.status.idle": "2023-12-15T07:04:18.940515Z",
     "shell.execute_reply": "2023-12-15T07:04:18.940942Z",
     "shell.execute_reply.started": "2022-01-04T21:00:22.161929Z"
    },
    "papermill": {
     "duration": 0.025808,
     "end_time": "2023-12-15T07:04:18.941085",
     "exception": false,
     "start_time": "2023-12-15T07:04:18.915277",
     "status": "completed"
    },
    "tags": []
   },
   "outputs": [],
   "source": [
    "class ImagesDataProcess(Dataset):\n",
    "    def __init__(self,csv_file,root_dir,tranform=None):\n",
    "        self.annotation=pd.read_csv(csv_file)\n",
    "        self.root_dir=root_dir\n",
    "        self.tranform=tranform\n",
    "        \n",
    "    def __len__(self):\n",
    "        return len(self.annotation)\n",
    "    \n",
    "    def __getitem__(self,index):\n",
    "        img_path=os.path.join(self.root_dir,self.annotation.iloc[index,0])\n",
    "        image=io.imread(img_path)\n",
    "        #image=resize(image,(640,640),anti_aliasing=True)\n",
    "        y_label=torch.tensor(int(self.annotation.iloc[index,1]))\n",
    "        \n",
    "        if self.tranform:\n",
    "            image=self.tranform(image)\n",
    "        return (image,y_label)"
   ]
  },
  {
   "cell_type": "code",
   "execution_count": 5,
   "id": "b040e23c",
   "metadata": {
    "execution": {
     "iopub.execute_input": "2023-12-15T07:04:19.040744Z",
     "iopub.status.busy": "2023-12-15T07:04:19.039966Z",
     "iopub.status.idle": "2023-12-15T07:04:19.043388Z",
     "shell.execute_reply": "2023-12-15T07:04:19.043904Z",
     "shell.execute_reply.started": "2022-01-04T21:00:22.186691Z"
    },
    "papermill": {
     "duration": 0.088151,
     "end_time": "2023-12-15T07:04:19.044065",
     "exception": false,
     "start_time": "2023-12-15T07:04:18.955914",
     "status": "completed"
    },
    "tags": []
   },
   "outputs": [
    {
     "data": {
      "text/plain": [
       "device(type='cpu')"
      ]
     },
     "execution_count": 5,
     "metadata": {},
     "output_type": "execute_result"
    }
   ],
   "source": [
    "device = torch.device(\"cuda\" if torch.cuda.is_available() else \"cpu\")\n",
    "device"
   ]
  },
  {
   "cell_type": "code",
   "execution_count": 6,
   "id": "a4683667",
   "metadata": {
    "execution": {
     "iopub.execute_input": "2023-12-15T07:04:19.079096Z",
     "iopub.status.busy": "2023-12-15T07:04:19.078316Z",
     "iopub.status.idle": "2023-12-15T07:04:19.080358Z",
     "shell.execute_reply": "2023-12-15T07:04:19.080830Z",
     "shell.execute_reply.started": "2022-01-04T21:00:22.236601Z"
    },
    "papermill": {
     "duration": 0.021742,
     "end_time": "2023-12-15T07:04:19.080970",
     "exception": false,
     "start_time": "2023-12-15T07:04:19.059228",
     "status": "completed"
    },
    "tags": []
   },
   "outputs": [],
   "source": [
    "# Hyperparameters\n",
    "in_channel = 3\n",
    "num_classes = 2\n",
    "learning_rate = 1e-3\n",
    "batch_size = 16\n",
    "num_epochs = 10\n",
    "root_dir_path='E:\\\\JK\\\\Vt\\\\dataset_vit_1024\\\\train'\n",
    "csv_file_path='E:\\\\JK\\\\Vt\\\\file2.csv'"
   ]
  },
  {
   "cell_type": "code",
   "execution_count": 7,
   "id": "c2f5ff8c",
   "metadata": {
    "execution": {
     "iopub.execute_input": "2023-12-15T07:04:19.115814Z",
     "iopub.status.busy": "2023-12-15T07:04:19.115187Z",
     "iopub.status.idle": "2023-12-15T07:04:19.150659Z",
     "shell.execute_reply": "2023-12-15T07:04:19.151105Z",
     "shell.execute_reply.started": "2022-01-04T21:00:22.252067Z"
    },
    "papermill": {
     "duration": 0.055327,
     "end_time": "2023-12-15T07:04:19.151255",
     "exception": false,
     "start_time": "2023-12-15T07:04:19.095928",
     "status": "completed"
    },
    "tags": []
   },
   "outputs": [],
   "source": [
    "dataset=ImagesDataProcess(\n",
    "    csv_file=csv_file_path,\n",
    "    root_dir=root_dir_path,\n",
    "    tranform=transforms.ToTensor()\n",
    ")\n"
   ]
  },
  {
   "cell_type": "code",
   "execution_count": 36,
   "id": "4e42ea74",
   "metadata": {
    "execution": {
     "iopub.execute_input": "2023-12-15T07:04:19.186350Z",
     "iopub.status.busy": "2023-12-15T07:04:19.185710Z",
     "iopub.status.idle": "2023-12-15T07:04:19.188641Z",
     "shell.execute_reply": "2023-12-15T07:04:19.189229Z",
     "shell.execute_reply.started": "2022-01-04T21:00:22.301100Z"
    },
    "papermill": {
     "duration": 0.023067,
     "end_time": "2023-12-15T07:04:19.189365",
     "exception": false,
     "start_time": "2023-12-15T07:04:19.166298",
     "status": "completed"
    },
    "tags": []
   },
   "outputs": [
    {
     "data": {
      "text/plain": [
       "1794"
      ]
     },
     "execution_count": 36,
     "metadata": {},
     "output_type": "execute_result"
    }
   ],
   "source": [
    "len(dataset)"
   ]
  },
  {
   "cell_type": "code",
   "execution_count": 8,
   "id": "1dae8004",
   "metadata": {
    "execution": {
     "iopub.execute_input": "2023-12-15T07:04:19.225607Z",
     "iopub.status.busy": "2023-12-15T07:04:19.224981Z",
     "iopub.status.idle": "2023-12-15T07:04:19.240658Z",
     "shell.execute_reply": "2023-12-15T07:04:19.241108Z",
     "shell.execute_reply.started": "2022-01-04T21:00:22.312018Z"
    },
    "papermill": {
     "duration": 0.036556,
     "end_time": "2023-12-15T07:04:19.241259",
     "exception": false,
     "start_time": "2023-12-15T07:04:19.204703",
     "status": "completed"
    },
    "tags": []
   },
   "outputs": [],
   "source": [
    "train_set, test_set = torch.utils.data.random_split(dataset, [1444,350])\n",
    "train_loader = DataLoader(dataset=train_set, batch_size=batch_size, shuffle=True)\n",
    "test_loader = DataLoader(dataset=test_set, batch_size=batch_size, shuffle=True)\n"
   ]
  },
  {
   "cell_type": "code",
   "execution_count": 9,
   "id": "ea85a78c",
   "metadata": {
    "execution": {
     "iopub.execute_input": "2023-12-15T07:04:19.282610Z",
     "iopub.status.busy": "2023-12-15T07:04:19.281953Z",
     "iopub.status.idle": "2023-12-15T07:04:23.005536Z",
     "shell.execute_reply": "2023-12-15T07:04:23.006124Z",
     "shell.execute_reply.started": "2022-01-04T21:00:22.331336Z"
    },
    "papermill": {
     "duration": 3.749795,
     "end_time": "2023-12-15T07:04:23.006302",
     "exception": false,
     "start_time": "2023-12-15T07:04:19.256507",
     "status": "completed"
    },
    "tags": []
   },
   "outputs": [
    {
     "name": "stderr",
     "output_type": "stream",
     "text": [
      "e:\\JK\\Vt\\vt\\lib\\site-packages\\torchvision\\models\\_utils.py:208: UserWarning: The parameter 'pretrained' is deprecated since 0.13 and may be removed in the future, please use 'weights' instead.\n",
      "  warnings.warn(\n",
      "e:\\JK\\Vt\\vt\\lib\\site-packages\\torchvision\\models\\_utils.py:223: UserWarning: Arguments other than a weight enum or `None` for 'weights' are deprecated since 0.13 and may be removed in the future. The current behavior is equivalent to passing `weights=GoogLeNet_Weights.IMAGENET1K_V1`. You can also use `weights=GoogLeNet_Weights.DEFAULT` to get the most up-to-date weights.\n",
      "  warnings.warn(msg)\n"
     ]
    },
    {
     "data": {
      "text/plain": [
       "GoogLeNet(\n",
       "  (conv1): BasicConv2d(\n",
       "    (conv): Conv2d(3, 64, kernel_size=(7, 7), stride=(2, 2), padding=(3, 3), bias=False)\n",
       "    (bn): BatchNorm2d(64, eps=0.001, momentum=0.1, affine=True, track_running_stats=True)\n",
       "  )\n",
       "  (maxpool1): MaxPool2d(kernel_size=3, stride=2, padding=0, dilation=1, ceil_mode=True)\n",
       "  (conv2): BasicConv2d(\n",
       "    (conv): Conv2d(64, 64, kernel_size=(1, 1), stride=(1, 1), bias=False)\n",
       "    (bn): BatchNorm2d(64, eps=0.001, momentum=0.1, affine=True, track_running_stats=True)\n",
       "  )\n",
       "  (conv3): BasicConv2d(\n",
       "    (conv): Conv2d(64, 192, kernel_size=(3, 3), stride=(1, 1), padding=(1, 1), bias=False)\n",
       "    (bn): BatchNorm2d(192, eps=0.001, momentum=0.1, affine=True, track_running_stats=True)\n",
       "  )\n",
       "  (maxpool2): MaxPool2d(kernel_size=3, stride=2, padding=0, dilation=1, ceil_mode=True)\n",
       "  (inception3a): Inception(\n",
       "    (branch1): BasicConv2d(\n",
       "      (conv): Conv2d(192, 64, kernel_size=(1, 1), stride=(1, 1), bias=False)\n",
       "      (bn): BatchNorm2d(64, eps=0.001, momentum=0.1, affine=True, track_running_stats=True)\n",
       "    )\n",
       "    (branch2): Sequential(\n",
       "      (0): BasicConv2d(\n",
       "        (conv): Conv2d(192, 96, kernel_size=(1, 1), stride=(1, 1), bias=False)\n",
       "        (bn): BatchNorm2d(96, eps=0.001, momentum=0.1, affine=True, track_running_stats=True)\n",
       "      )\n",
       "      (1): BasicConv2d(\n",
       "        (conv): Conv2d(96, 128, kernel_size=(3, 3), stride=(1, 1), padding=(1, 1), bias=False)\n",
       "        (bn): BatchNorm2d(128, eps=0.001, momentum=0.1, affine=True, track_running_stats=True)\n",
       "      )\n",
       "    )\n",
       "    (branch3): Sequential(\n",
       "      (0): BasicConv2d(\n",
       "        (conv): Conv2d(192, 16, kernel_size=(1, 1), stride=(1, 1), bias=False)\n",
       "        (bn): BatchNorm2d(16, eps=0.001, momentum=0.1, affine=True, track_running_stats=True)\n",
       "      )\n",
       "      (1): BasicConv2d(\n",
       "        (conv): Conv2d(16, 32, kernel_size=(3, 3), stride=(1, 1), padding=(1, 1), bias=False)\n",
       "        (bn): BatchNorm2d(32, eps=0.001, momentum=0.1, affine=True, track_running_stats=True)\n",
       "      )\n",
       "    )\n",
       "    (branch4): Sequential(\n",
       "      (0): MaxPool2d(kernel_size=3, stride=1, padding=1, dilation=1, ceil_mode=True)\n",
       "      (1): BasicConv2d(\n",
       "        (conv): Conv2d(192, 32, kernel_size=(1, 1), stride=(1, 1), bias=False)\n",
       "        (bn): BatchNorm2d(32, eps=0.001, momentum=0.1, affine=True, track_running_stats=True)\n",
       "      )\n",
       "    )\n",
       "  )\n",
       "  (inception3b): Inception(\n",
       "    (branch1): BasicConv2d(\n",
       "      (conv): Conv2d(256, 128, kernel_size=(1, 1), stride=(1, 1), bias=False)\n",
       "      (bn): BatchNorm2d(128, eps=0.001, momentum=0.1, affine=True, track_running_stats=True)\n",
       "    )\n",
       "    (branch2): Sequential(\n",
       "      (0): BasicConv2d(\n",
       "        (conv): Conv2d(256, 128, kernel_size=(1, 1), stride=(1, 1), bias=False)\n",
       "        (bn): BatchNorm2d(128, eps=0.001, momentum=0.1, affine=True, track_running_stats=True)\n",
       "      )\n",
       "      (1): BasicConv2d(\n",
       "        (conv): Conv2d(128, 192, kernel_size=(3, 3), stride=(1, 1), padding=(1, 1), bias=False)\n",
       "        (bn): BatchNorm2d(192, eps=0.001, momentum=0.1, affine=True, track_running_stats=True)\n",
       "      )\n",
       "    )\n",
       "    (branch3): Sequential(\n",
       "      (0): BasicConv2d(\n",
       "        (conv): Conv2d(256, 32, kernel_size=(1, 1), stride=(1, 1), bias=False)\n",
       "        (bn): BatchNorm2d(32, eps=0.001, momentum=0.1, affine=True, track_running_stats=True)\n",
       "      )\n",
       "      (1): BasicConv2d(\n",
       "        (conv): Conv2d(32, 96, kernel_size=(3, 3), stride=(1, 1), padding=(1, 1), bias=False)\n",
       "        (bn): BatchNorm2d(96, eps=0.001, momentum=0.1, affine=True, track_running_stats=True)\n",
       "      )\n",
       "    )\n",
       "    (branch4): Sequential(\n",
       "      (0): MaxPool2d(kernel_size=3, stride=1, padding=1, dilation=1, ceil_mode=True)\n",
       "      (1): BasicConv2d(\n",
       "        (conv): Conv2d(256, 64, kernel_size=(1, 1), stride=(1, 1), bias=False)\n",
       "        (bn): BatchNorm2d(64, eps=0.001, momentum=0.1, affine=True, track_running_stats=True)\n",
       "      )\n",
       "    )\n",
       "  )\n",
       "  (maxpool3): MaxPool2d(kernel_size=3, stride=2, padding=0, dilation=1, ceil_mode=True)\n",
       "  (inception4a): Inception(\n",
       "    (branch1): BasicConv2d(\n",
       "      (conv): Conv2d(480, 192, kernel_size=(1, 1), stride=(1, 1), bias=False)\n",
       "      (bn): BatchNorm2d(192, eps=0.001, momentum=0.1, affine=True, track_running_stats=True)\n",
       "    )\n",
       "    (branch2): Sequential(\n",
       "      (0): BasicConv2d(\n",
       "        (conv): Conv2d(480, 96, kernel_size=(1, 1), stride=(1, 1), bias=False)\n",
       "        (bn): BatchNorm2d(96, eps=0.001, momentum=0.1, affine=True, track_running_stats=True)\n",
       "      )\n",
       "      (1): BasicConv2d(\n",
       "        (conv): Conv2d(96, 208, kernel_size=(3, 3), stride=(1, 1), padding=(1, 1), bias=False)\n",
       "        (bn): BatchNorm2d(208, eps=0.001, momentum=0.1, affine=True, track_running_stats=True)\n",
       "      )\n",
       "    )\n",
       "    (branch3): Sequential(\n",
       "      (0): BasicConv2d(\n",
       "        (conv): Conv2d(480, 16, kernel_size=(1, 1), stride=(1, 1), bias=False)\n",
       "        (bn): BatchNorm2d(16, eps=0.001, momentum=0.1, affine=True, track_running_stats=True)\n",
       "      )\n",
       "      (1): BasicConv2d(\n",
       "        (conv): Conv2d(16, 48, kernel_size=(3, 3), stride=(1, 1), padding=(1, 1), bias=False)\n",
       "        (bn): BatchNorm2d(48, eps=0.001, momentum=0.1, affine=True, track_running_stats=True)\n",
       "      )\n",
       "    )\n",
       "    (branch4): Sequential(\n",
       "      (0): MaxPool2d(kernel_size=3, stride=1, padding=1, dilation=1, ceil_mode=True)\n",
       "      (1): BasicConv2d(\n",
       "        (conv): Conv2d(480, 64, kernel_size=(1, 1), stride=(1, 1), bias=False)\n",
       "        (bn): BatchNorm2d(64, eps=0.001, momentum=0.1, affine=True, track_running_stats=True)\n",
       "      )\n",
       "    )\n",
       "  )\n",
       "  (inception4b): Inception(\n",
       "    (branch1): BasicConv2d(\n",
       "      (conv): Conv2d(512, 160, kernel_size=(1, 1), stride=(1, 1), bias=False)\n",
       "      (bn): BatchNorm2d(160, eps=0.001, momentum=0.1, affine=True, track_running_stats=True)\n",
       "    )\n",
       "    (branch2): Sequential(\n",
       "      (0): BasicConv2d(\n",
       "        (conv): Conv2d(512, 112, kernel_size=(1, 1), stride=(1, 1), bias=False)\n",
       "        (bn): BatchNorm2d(112, eps=0.001, momentum=0.1, affine=True, track_running_stats=True)\n",
       "      )\n",
       "      (1): BasicConv2d(\n",
       "        (conv): Conv2d(112, 224, kernel_size=(3, 3), stride=(1, 1), padding=(1, 1), bias=False)\n",
       "        (bn): BatchNorm2d(224, eps=0.001, momentum=0.1, affine=True, track_running_stats=True)\n",
       "      )\n",
       "    )\n",
       "    (branch3): Sequential(\n",
       "      (0): BasicConv2d(\n",
       "        (conv): Conv2d(512, 24, kernel_size=(1, 1), stride=(1, 1), bias=False)\n",
       "        (bn): BatchNorm2d(24, eps=0.001, momentum=0.1, affine=True, track_running_stats=True)\n",
       "      )\n",
       "      (1): BasicConv2d(\n",
       "        (conv): Conv2d(24, 64, kernel_size=(3, 3), stride=(1, 1), padding=(1, 1), bias=False)\n",
       "        (bn): BatchNorm2d(64, eps=0.001, momentum=0.1, affine=True, track_running_stats=True)\n",
       "      )\n",
       "    )\n",
       "    (branch4): Sequential(\n",
       "      (0): MaxPool2d(kernel_size=3, stride=1, padding=1, dilation=1, ceil_mode=True)\n",
       "      (1): BasicConv2d(\n",
       "        (conv): Conv2d(512, 64, kernel_size=(1, 1), stride=(1, 1), bias=False)\n",
       "        (bn): BatchNorm2d(64, eps=0.001, momentum=0.1, affine=True, track_running_stats=True)\n",
       "      )\n",
       "    )\n",
       "  )\n",
       "  (inception4c): Inception(\n",
       "    (branch1): BasicConv2d(\n",
       "      (conv): Conv2d(512, 128, kernel_size=(1, 1), stride=(1, 1), bias=False)\n",
       "      (bn): BatchNorm2d(128, eps=0.001, momentum=0.1, affine=True, track_running_stats=True)\n",
       "    )\n",
       "    (branch2): Sequential(\n",
       "      (0): BasicConv2d(\n",
       "        (conv): Conv2d(512, 128, kernel_size=(1, 1), stride=(1, 1), bias=False)\n",
       "        (bn): BatchNorm2d(128, eps=0.001, momentum=0.1, affine=True, track_running_stats=True)\n",
       "      )\n",
       "      (1): BasicConv2d(\n",
       "        (conv): Conv2d(128, 256, kernel_size=(3, 3), stride=(1, 1), padding=(1, 1), bias=False)\n",
       "        (bn): BatchNorm2d(256, eps=0.001, momentum=0.1, affine=True, track_running_stats=True)\n",
       "      )\n",
       "    )\n",
       "    (branch3): Sequential(\n",
       "      (0): BasicConv2d(\n",
       "        (conv): Conv2d(512, 24, kernel_size=(1, 1), stride=(1, 1), bias=False)\n",
       "        (bn): BatchNorm2d(24, eps=0.001, momentum=0.1, affine=True, track_running_stats=True)\n",
       "      )\n",
       "      (1): BasicConv2d(\n",
       "        (conv): Conv2d(24, 64, kernel_size=(3, 3), stride=(1, 1), padding=(1, 1), bias=False)\n",
       "        (bn): BatchNorm2d(64, eps=0.001, momentum=0.1, affine=True, track_running_stats=True)\n",
       "      )\n",
       "    )\n",
       "    (branch4): Sequential(\n",
       "      (0): MaxPool2d(kernel_size=3, stride=1, padding=1, dilation=1, ceil_mode=True)\n",
       "      (1): BasicConv2d(\n",
       "        (conv): Conv2d(512, 64, kernel_size=(1, 1), stride=(1, 1), bias=False)\n",
       "        (bn): BatchNorm2d(64, eps=0.001, momentum=0.1, affine=True, track_running_stats=True)\n",
       "      )\n",
       "    )\n",
       "  )\n",
       "  (inception4d): Inception(\n",
       "    (branch1): BasicConv2d(\n",
       "      (conv): Conv2d(512, 112, kernel_size=(1, 1), stride=(1, 1), bias=False)\n",
       "      (bn): BatchNorm2d(112, eps=0.001, momentum=0.1, affine=True, track_running_stats=True)\n",
       "    )\n",
       "    (branch2): Sequential(\n",
       "      (0): BasicConv2d(\n",
       "        (conv): Conv2d(512, 144, kernel_size=(1, 1), stride=(1, 1), bias=False)\n",
       "        (bn): BatchNorm2d(144, eps=0.001, momentum=0.1, affine=True, track_running_stats=True)\n",
       "      )\n",
       "      (1): BasicConv2d(\n",
       "        (conv): Conv2d(144, 288, kernel_size=(3, 3), stride=(1, 1), padding=(1, 1), bias=False)\n",
       "        (bn): BatchNorm2d(288, eps=0.001, momentum=0.1, affine=True, track_running_stats=True)\n",
       "      )\n",
       "    )\n",
       "    (branch3): Sequential(\n",
       "      (0): BasicConv2d(\n",
       "        (conv): Conv2d(512, 32, kernel_size=(1, 1), stride=(1, 1), bias=False)\n",
       "        (bn): BatchNorm2d(32, eps=0.001, momentum=0.1, affine=True, track_running_stats=True)\n",
       "      )\n",
       "      (1): BasicConv2d(\n",
       "        (conv): Conv2d(32, 64, kernel_size=(3, 3), stride=(1, 1), padding=(1, 1), bias=False)\n",
       "        (bn): BatchNorm2d(64, eps=0.001, momentum=0.1, affine=True, track_running_stats=True)\n",
       "      )\n",
       "    )\n",
       "    (branch4): Sequential(\n",
       "      (0): MaxPool2d(kernel_size=3, stride=1, padding=1, dilation=1, ceil_mode=True)\n",
       "      (1): BasicConv2d(\n",
       "        (conv): Conv2d(512, 64, kernel_size=(1, 1), stride=(1, 1), bias=False)\n",
       "        (bn): BatchNorm2d(64, eps=0.001, momentum=0.1, affine=True, track_running_stats=True)\n",
       "      )\n",
       "    )\n",
       "  )\n",
       "  (inception4e): Inception(\n",
       "    (branch1): BasicConv2d(\n",
       "      (conv): Conv2d(528, 256, kernel_size=(1, 1), stride=(1, 1), bias=False)\n",
       "      (bn): BatchNorm2d(256, eps=0.001, momentum=0.1, affine=True, track_running_stats=True)\n",
       "    )\n",
       "    (branch2): Sequential(\n",
       "      (0): BasicConv2d(\n",
       "        (conv): Conv2d(528, 160, kernel_size=(1, 1), stride=(1, 1), bias=False)\n",
       "        (bn): BatchNorm2d(160, eps=0.001, momentum=0.1, affine=True, track_running_stats=True)\n",
       "      )\n",
       "      (1): BasicConv2d(\n",
       "        (conv): Conv2d(160, 320, kernel_size=(3, 3), stride=(1, 1), padding=(1, 1), bias=False)\n",
       "        (bn): BatchNorm2d(320, eps=0.001, momentum=0.1, affine=True, track_running_stats=True)\n",
       "      )\n",
       "    )\n",
       "    (branch3): Sequential(\n",
       "      (0): BasicConv2d(\n",
       "        (conv): Conv2d(528, 32, kernel_size=(1, 1), stride=(1, 1), bias=False)\n",
       "        (bn): BatchNorm2d(32, eps=0.001, momentum=0.1, affine=True, track_running_stats=True)\n",
       "      )\n",
       "      (1): BasicConv2d(\n",
       "        (conv): Conv2d(32, 128, kernel_size=(3, 3), stride=(1, 1), padding=(1, 1), bias=False)\n",
       "        (bn): BatchNorm2d(128, eps=0.001, momentum=0.1, affine=True, track_running_stats=True)\n",
       "      )\n",
       "    )\n",
       "    (branch4): Sequential(\n",
       "      (0): MaxPool2d(kernel_size=3, stride=1, padding=1, dilation=1, ceil_mode=True)\n",
       "      (1): BasicConv2d(\n",
       "        (conv): Conv2d(528, 128, kernel_size=(1, 1), stride=(1, 1), bias=False)\n",
       "        (bn): BatchNorm2d(128, eps=0.001, momentum=0.1, affine=True, track_running_stats=True)\n",
       "      )\n",
       "    )\n",
       "  )\n",
       "  (maxpool4): MaxPool2d(kernel_size=2, stride=2, padding=0, dilation=1, ceil_mode=True)\n",
       "  (inception5a): Inception(\n",
       "    (branch1): BasicConv2d(\n",
       "      (conv): Conv2d(832, 256, kernel_size=(1, 1), stride=(1, 1), bias=False)\n",
       "      (bn): BatchNorm2d(256, eps=0.001, momentum=0.1, affine=True, track_running_stats=True)\n",
       "    )\n",
       "    (branch2): Sequential(\n",
       "      (0): BasicConv2d(\n",
       "        (conv): Conv2d(832, 160, kernel_size=(1, 1), stride=(1, 1), bias=False)\n",
       "        (bn): BatchNorm2d(160, eps=0.001, momentum=0.1, affine=True, track_running_stats=True)\n",
       "      )\n",
       "      (1): BasicConv2d(\n",
       "        (conv): Conv2d(160, 320, kernel_size=(3, 3), stride=(1, 1), padding=(1, 1), bias=False)\n",
       "        (bn): BatchNorm2d(320, eps=0.001, momentum=0.1, affine=True, track_running_stats=True)\n",
       "      )\n",
       "    )\n",
       "    (branch3): Sequential(\n",
       "      (0): BasicConv2d(\n",
       "        (conv): Conv2d(832, 32, kernel_size=(1, 1), stride=(1, 1), bias=False)\n",
       "        (bn): BatchNorm2d(32, eps=0.001, momentum=0.1, affine=True, track_running_stats=True)\n",
       "      )\n",
       "      (1): BasicConv2d(\n",
       "        (conv): Conv2d(32, 128, kernel_size=(3, 3), stride=(1, 1), padding=(1, 1), bias=False)\n",
       "        (bn): BatchNorm2d(128, eps=0.001, momentum=0.1, affine=True, track_running_stats=True)\n",
       "      )\n",
       "    )\n",
       "    (branch4): Sequential(\n",
       "      (0): MaxPool2d(kernel_size=3, stride=1, padding=1, dilation=1, ceil_mode=True)\n",
       "      (1): BasicConv2d(\n",
       "        (conv): Conv2d(832, 128, kernel_size=(1, 1), stride=(1, 1), bias=False)\n",
       "        (bn): BatchNorm2d(128, eps=0.001, momentum=0.1, affine=True, track_running_stats=True)\n",
       "      )\n",
       "    )\n",
       "  )\n",
       "  (inception5b): Inception(\n",
       "    (branch1): BasicConv2d(\n",
       "      (conv): Conv2d(832, 384, kernel_size=(1, 1), stride=(1, 1), bias=False)\n",
       "      (bn): BatchNorm2d(384, eps=0.001, momentum=0.1, affine=True, track_running_stats=True)\n",
       "    )\n",
       "    (branch2): Sequential(\n",
       "      (0): BasicConv2d(\n",
       "        (conv): Conv2d(832, 192, kernel_size=(1, 1), stride=(1, 1), bias=False)\n",
       "        (bn): BatchNorm2d(192, eps=0.001, momentum=0.1, affine=True, track_running_stats=True)\n",
       "      )\n",
       "      (1): BasicConv2d(\n",
       "        (conv): Conv2d(192, 384, kernel_size=(3, 3), stride=(1, 1), padding=(1, 1), bias=False)\n",
       "        (bn): BatchNorm2d(384, eps=0.001, momentum=0.1, affine=True, track_running_stats=True)\n",
       "      )\n",
       "    )\n",
       "    (branch3): Sequential(\n",
       "      (0): BasicConv2d(\n",
       "        (conv): Conv2d(832, 48, kernel_size=(1, 1), stride=(1, 1), bias=False)\n",
       "        (bn): BatchNorm2d(48, eps=0.001, momentum=0.1, affine=True, track_running_stats=True)\n",
       "      )\n",
       "      (1): BasicConv2d(\n",
       "        (conv): Conv2d(48, 128, kernel_size=(3, 3), stride=(1, 1), padding=(1, 1), bias=False)\n",
       "        (bn): BatchNorm2d(128, eps=0.001, momentum=0.1, affine=True, track_running_stats=True)\n",
       "      )\n",
       "    )\n",
       "    (branch4): Sequential(\n",
       "      (0): MaxPool2d(kernel_size=3, stride=1, padding=1, dilation=1, ceil_mode=True)\n",
       "      (1): BasicConv2d(\n",
       "        (conv): Conv2d(832, 128, kernel_size=(1, 1), stride=(1, 1), bias=False)\n",
       "        (bn): BatchNorm2d(128, eps=0.001, momentum=0.1, affine=True, track_running_stats=True)\n",
       "      )\n",
       "    )\n",
       "  )\n",
       "  (aux1): None\n",
       "  (aux2): None\n",
       "  (avgpool): AdaptiveAvgPool2d(output_size=(1, 1))\n",
       "  (dropout): Dropout(p=0.2, inplace=False)\n",
       "  (fc): Sequential(\n",
       "    (0): Linear(in_features=1024, out_features=512, bias=True)\n",
       "    (1): ReLU()\n",
       "    (2): Linear(in_features=512, out_features=128, bias=True)\n",
       "    (3): ReLU()\n",
       "    (4): Linear(in_features=128, out_features=32, bias=True)\n",
       "    (5): ReLU()\n",
       "    (6): Linear(in_features=32, out_features=2, bias=True)\n",
       "  )\n",
       ")"
      ]
     },
     "execution_count": 9,
     "metadata": {},
     "output_type": "execute_result"
    }
   ],
   "source": [
    "# Model\n",
    "model = torchvision.models.googlenet(pretrained=True)\n",
    "model.fc=nn.Sequential(\n",
    "    nn.Linear(in_features=1024,out_features=512),\n",
    "    nn.ReLU(),\n",
    "    nn.Linear(in_features=512,out_features=128),\n",
    "    nn.ReLU(),\n",
    "    nn.Linear(in_features=128,out_features=32),\n",
    "    nn.ReLU(),\n",
    "    nn.Linear(in_features=32,out_features=2,bias=True)\n",
    ") \n",
    "model.to(device);\n",
    "model"
   ]
  },
  {
   "cell_type": "code",
   "execution_count": 10,
   "id": "ac97cc64",
   "metadata": {
    "execution": {
     "iopub.execute_input": "2023-12-15T07:04:23.050817Z",
     "iopub.status.busy": "2023-12-15T07:04:23.049710Z",
     "iopub.status.idle": "2023-12-15T07:04:29.069439Z",
     "shell.execute_reply": "2023-12-15T07:04:29.070001Z",
     "shell.execute_reply.started": "2022-01-04T21:00:24.562797Z"
    },
    "papermill": {
     "duration": 6.044261,
     "end_time": "2023-12-15T07:04:29.070178",
     "exception": false,
     "start_time": "2023-12-15T07:04:23.025917",
     "status": "completed"
    },
    "tags": []
   },
   "outputs": [
    {
     "name": "stdout",
     "output_type": "stream",
     "text": [
      "----------------------------------------------------------------\n",
      "        Layer (type)               Output Shape         Param #\n",
      "================================================================\n",
      "            Conv2d-1         [-1, 64, 125, 125]           9,408\n",
      "       BatchNorm2d-2         [-1, 64, 125, 125]             128\n",
      "       BasicConv2d-3         [-1, 64, 125, 125]               0\n",
      "         MaxPool2d-4           [-1, 64, 62, 62]               0\n",
      "            Conv2d-5           [-1, 64, 62, 62]           4,096\n",
      "       BatchNorm2d-6           [-1, 64, 62, 62]             128\n",
      "       BasicConv2d-7           [-1, 64, 62, 62]               0\n",
      "            Conv2d-8          [-1, 192, 62, 62]         110,592\n",
      "       BatchNorm2d-9          [-1, 192, 62, 62]             384\n",
      "      BasicConv2d-10          [-1, 192, 62, 62]               0\n",
      "        MaxPool2d-11          [-1, 192, 31, 31]               0\n",
      "           Conv2d-12           [-1, 64, 31, 31]          12,288\n",
      "      BatchNorm2d-13           [-1, 64, 31, 31]             128\n",
      "      BasicConv2d-14           [-1, 64, 31, 31]               0\n",
      "           Conv2d-15           [-1, 96, 31, 31]          18,432\n",
      "      BatchNorm2d-16           [-1, 96, 31, 31]             192\n",
      "      BasicConv2d-17           [-1, 96, 31, 31]               0\n",
      "           Conv2d-18          [-1, 128, 31, 31]         110,592\n",
      "      BatchNorm2d-19          [-1, 128, 31, 31]             256\n",
      "      BasicConv2d-20          [-1, 128, 31, 31]               0\n",
      "           Conv2d-21           [-1, 16, 31, 31]           3,072\n",
      "      BatchNorm2d-22           [-1, 16, 31, 31]              32\n",
      "      BasicConv2d-23           [-1, 16, 31, 31]               0\n",
      "           Conv2d-24           [-1, 32, 31, 31]           4,608\n",
      "      BatchNorm2d-25           [-1, 32, 31, 31]              64\n",
      "      BasicConv2d-26           [-1, 32, 31, 31]               0\n",
      "        MaxPool2d-27          [-1, 192, 31, 31]               0\n",
      "           Conv2d-28           [-1, 32, 31, 31]           6,144\n",
      "      BatchNorm2d-29           [-1, 32, 31, 31]              64\n",
      "      BasicConv2d-30           [-1, 32, 31, 31]               0\n",
      "        Inception-31          [-1, 256, 31, 31]               0\n",
      "           Conv2d-32          [-1, 128, 31, 31]          32,768\n",
      "      BatchNorm2d-33          [-1, 128, 31, 31]             256\n",
      "      BasicConv2d-34          [-1, 128, 31, 31]               0\n",
      "           Conv2d-35          [-1, 128, 31, 31]          32,768\n",
      "      BatchNorm2d-36          [-1, 128, 31, 31]             256\n",
      "      BasicConv2d-37          [-1, 128, 31, 31]               0\n",
      "           Conv2d-38          [-1, 192, 31, 31]         221,184\n",
      "      BatchNorm2d-39          [-1, 192, 31, 31]             384\n",
      "      BasicConv2d-40          [-1, 192, 31, 31]               0\n",
      "           Conv2d-41           [-1, 32, 31, 31]           8,192\n",
      "      BatchNorm2d-42           [-1, 32, 31, 31]              64\n",
      "      BasicConv2d-43           [-1, 32, 31, 31]               0\n",
      "           Conv2d-44           [-1, 96, 31, 31]          27,648\n",
      "      BatchNorm2d-45           [-1, 96, 31, 31]             192\n",
      "      BasicConv2d-46           [-1, 96, 31, 31]               0\n",
      "        MaxPool2d-47          [-1, 256, 31, 31]               0\n",
      "           Conv2d-48           [-1, 64, 31, 31]          16,384\n",
      "      BatchNorm2d-49           [-1, 64, 31, 31]             128\n",
      "      BasicConv2d-50           [-1, 64, 31, 31]               0\n",
      "        Inception-51          [-1, 480, 31, 31]               0\n",
      "        MaxPool2d-52          [-1, 480, 15, 15]               0\n",
      "           Conv2d-53          [-1, 192, 15, 15]          92,160\n",
      "      BatchNorm2d-54          [-1, 192, 15, 15]             384\n",
      "      BasicConv2d-55          [-1, 192, 15, 15]               0\n",
      "           Conv2d-56           [-1, 96, 15, 15]          46,080\n",
      "      BatchNorm2d-57           [-1, 96, 15, 15]             192\n",
      "      BasicConv2d-58           [-1, 96, 15, 15]               0\n",
      "           Conv2d-59          [-1, 208, 15, 15]         179,712\n",
      "      BatchNorm2d-60          [-1, 208, 15, 15]             416\n",
      "      BasicConv2d-61          [-1, 208, 15, 15]               0\n",
      "           Conv2d-62           [-1, 16, 15, 15]           7,680\n",
      "      BatchNorm2d-63           [-1, 16, 15, 15]              32\n",
      "      BasicConv2d-64           [-1, 16, 15, 15]               0\n",
      "           Conv2d-65           [-1, 48, 15, 15]           6,912\n",
      "      BatchNorm2d-66           [-1, 48, 15, 15]              96\n",
      "      BasicConv2d-67           [-1, 48, 15, 15]               0\n",
      "        MaxPool2d-68          [-1, 480, 15, 15]               0\n",
      "           Conv2d-69           [-1, 64, 15, 15]          30,720\n",
      "      BatchNorm2d-70           [-1, 64, 15, 15]             128\n",
      "      BasicConv2d-71           [-1, 64, 15, 15]               0\n",
      "        Inception-72          [-1, 512, 15, 15]               0\n",
      "           Conv2d-73          [-1, 160, 15, 15]          81,920\n",
      "      BatchNorm2d-74          [-1, 160, 15, 15]             320\n",
      "      BasicConv2d-75          [-1, 160, 15, 15]               0\n",
      "           Conv2d-76          [-1, 112, 15, 15]          57,344\n",
      "      BatchNorm2d-77          [-1, 112, 15, 15]             224\n",
      "      BasicConv2d-78          [-1, 112, 15, 15]               0\n",
      "           Conv2d-79          [-1, 224, 15, 15]         225,792\n",
      "      BatchNorm2d-80          [-1, 224, 15, 15]             448\n",
      "      BasicConv2d-81          [-1, 224, 15, 15]               0\n",
      "           Conv2d-82           [-1, 24, 15, 15]          12,288\n",
      "      BatchNorm2d-83           [-1, 24, 15, 15]              48\n",
      "      BasicConv2d-84           [-1, 24, 15, 15]               0\n",
      "           Conv2d-85           [-1, 64, 15, 15]          13,824\n",
      "      BatchNorm2d-86           [-1, 64, 15, 15]             128\n",
      "      BasicConv2d-87           [-1, 64, 15, 15]               0\n",
      "        MaxPool2d-88          [-1, 512, 15, 15]               0\n",
      "           Conv2d-89           [-1, 64, 15, 15]          32,768\n",
      "      BatchNorm2d-90           [-1, 64, 15, 15]             128\n",
      "      BasicConv2d-91           [-1, 64, 15, 15]               0\n",
      "        Inception-92          [-1, 512, 15, 15]               0\n",
      "           Conv2d-93          [-1, 128, 15, 15]          65,536\n",
      "      BatchNorm2d-94          [-1, 128, 15, 15]             256\n",
      "      BasicConv2d-95          [-1, 128, 15, 15]               0\n",
      "           Conv2d-96          [-1, 128, 15, 15]          65,536\n",
      "      BatchNorm2d-97          [-1, 128, 15, 15]             256\n",
      "      BasicConv2d-98          [-1, 128, 15, 15]               0\n",
      "           Conv2d-99          [-1, 256, 15, 15]         294,912\n",
      "     BatchNorm2d-100          [-1, 256, 15, 15]             512\n",
      "     BasicConv2d-101          [-1, 256, 15, 15]               0\n",
      "          Conv2d-102           [-1, 24, 15, 15]          12,288\n",
      "     BatchNorm2d-103           [-1, 24, 15, 15]              48\n",
      "     BasicConv2d-104           [-1, 24, 15, 15]               0\n",
      "          Conv2d-105           [-1, 64, 15, 15]          13,824\n",
      "     BatchNorm2d-106           [-1, 64, 15, 15]             128\n",
      "     BasicConv2d-107           [-1, 64, 15, 15]               0\n",
      "       MaxPool2d-108          [-1, 512, 15, 15]               0\n",
      "          Conv2d-109           [-1, 64, 15, 15]          32,768\n",
      "     BatchNorm2d-110           [-1, 64, 15, 15]             128\n",
      "     BasicConv2d-111           [-1, 64, 15, 15]               0\n",
      "       Inception-112          [-1, 512, 15, 15]               0\n",
      "          Conv2d-113          [-1, 112, 15, 15]          57,344\n",
      "     BatchNorm2d-114          [-1, 112, 15, 15]             224\n",
      "     BasicConv2d-115          [-1, 112, 15, 15]               0\n",
      "          Conv2d-116          [-1, 144, 15, 15]          73,728\n",
      "     BatchNorm2d-117          [-1, 144, 15, 15]             288\n",
      "     BasicConv2d-118          [-1, 144, 15, 15]               0\n",
      "          Conv2d-119          [-1, 288, 15, 15]         373,248\n",
      "     BatchNorm2d-120          [-1, 288, 15, 15]             576\n",
      "     BasicConv2d-121          [-1, 288, 15, 15]               0\n",
      "          Conv2d-122           [-1, 32, 15, 15]          16,384\n",
      "     BatchNorm2d-123           [-1, 32, 15, 15]              64\n",
      "     BasicConv2d-124           [-1, 32, 15, 15]               0\n",
      "          Conv2d-125           [-1, 64, 15, 15]          18,432\n",
      "     BatchNorm2d-126           [-1, 64, 15, 15]             128\n",
      "     BasicConv2d-127           [-1, 64, 15, 15]               0\n",
      "       MaxPool2d-128          [-1, 512, 15, 15]               0\n",
      "          Conv2d-129           [-1, 64, 15, 15]          32,768\n",
      "     BatchNorm2d-130           [-1, 64, 15, 15]             128\n",
      "     BasicConv2d-131           [-1, 64, 15, 15]               0\n",
      "       Inception-132          [-1, 528, 15, 15]               0\n",
      "          Conv2d-133          [-1, 256, 15, 15]         135,168\n",
      "     BatchNorm2d-134          [-1, 256, 15, 15]             512\n",
      "     BasicConv2d-135          [-1, 256, 15, 15]               0\n",
      "          Conv2d-136          [-1, 160, 15, 15]          84,480\n",
      "     BatchNorm2d-137          [-1, 160, 15, 15]             320\n",
      "     BasicConv2d-138          [-1, 160, 15, 15]               0\n",
      "          Conv2d-139          [-1, 320, 15, 15]         460,800\n",
      "     BatchNorm2d-140          [-1, 320, 15, 15]             640\n",
      "     BasicConv2d-141          [-1, 320, 15, 15]               0\n",
      "          Conv2d-142           [-1, 32, 15, 15]          16,896\n",
      "     BatchNorm2d-143           [-1, 32, 15, 15]              64\n",
      "     BasicConv2d-144           [-1, 32, 15, 15]               0\n",
      "          Conv2d-145          [-1, 128, 15, 15]          36,864\n",
      "     BatchNorm2d-146          [-1, 128, 15, 15]             256\n",
      "     BasicConv2d-147          [-1, 128, 15, 15]               0\n",
      "       MaxPool2d-148          [-1, 528, 15, 15]               0\n",
      "          Conv2d-149          [-1, 128, 15, 15]          67,584\n",
      "     BatchNorm2d-150          [-1, 128, 15, 15]             256\n",
      "     BasicConv2d-151          [-1, 128, 15, 15]               0\n",
      "       Inception-152          [-1, 832, 15, 15]               0\n",
      "       MaxPool2d-153            [-1, 832, 8, 8]               0\n",
      "          Conv2d-154            [-1, 256, 8, 8]         212,992\n",
      "     BatchNorm2d-155            [-1, 256, 8, 8]             512\n",
      "     BasicConv2d-156            [-1, 256, 8, 8]               0\n",
      "          Conv2d-157            [-1, 160, 8, 8]         133,120\n",
      "     BatchNorm2d-158            [-1, 160, 8, 8]             320\n",
      "     BasicConv2d-159            [-1, 160, 8, 8]               0\n",
      "          Conv2d-160            [-1, 320, 8, 8]         460,800\n",
      "     BatchNorm2d-161            [-1, 320, 8, 8]             640\n",
      "     BasicConv2d-162            [-1, 320, 8, 8]               0\n",
      "          Conv2d-163             [-1, 32, 8, 8]          26,624\n",
      "     BatchNorm2d-164             [-1, 32, 8, 8]              64\n",
      "     BasicConv2d-165             [-1, 32, 8, 8]               0\n",
      "          Conv2d-166            [-1, 128, 8, 8]          36,864\n",
      "     BatchNorm2d-167            [-1, 128, 8, 8]             256\n",
      "     BasicConv2d-168            [-1, 128, 8, 8]               0\n",
      "       MaxPool2d-169            [-1, 832, 8, 8]               0\n",
      "          Conv2d-170            [-1, 128, 8, 8]         106,496\n",
      "     BatchNorm2d-171            [-1, 128, 8, 8]             256\n",
      "     BasicConv2d-172            [-1, 128, 8, 8]               0\n",
      "       Inception-173            [-1, 832, 8, 8]               0\n",
      "          Conv2d-174            [-1, 384, 8, 8]         319,488\n",
      "     BatchNorm2d-175            [-1, 384, 8, 8]             768\n",
      "     BasicConv2d-176            [-1, 384, 8, 8]               0\n",
      "          Conv2d-177            [-1, 192, 8, 8]         159,744\n",
      "     BatchNorm2d-178            [-1, 192, 8, 8]             384\n",
      "     BasicConv2d-179            [-1, 192, 8, 8]               0\n",
      "          Conv2d-180            [-1, 384, 8, 8]         663,552\n",
      "     BatchNorm2d-181            [-1, 384, 8, 8]             768\n",
      "     BasicConv2d-182            [-1, 384, 8, 8]               0\n",
      "          Conv2d-183             [-1, 48, 8, 8]          39,936\n",
      "     BatchNorm2d-184             [-1, 48, 8, 8]              96\n",
      "     BasicConv2d-185             [-1, 48, 8, 8]               0\n",
      "          Conv2d-186            [-1, 128, 8, 8]          55,296\n",
      "     BatchNorm2d-187            [-1, 128, 8, 8]             256\n",
      "     BasicConv2d-188            [-1, 128, 8, 8]               0\n",
      "       MaxPool2d-189            [-1, 832, 8, 8]               0\n",
      "          Conv2d-190            [-1, 128, 8, 8]         106,496\n",
      "     BatchNorm2d-191            [-1, 128, 8, 8]             256\n",
      "     BasicConv2d-192            [-1, 128, 8, 8]               0\n",
      "       Inception-193           [-1, 1024, 8, 8]               0\n",
      "AdaptiveAvgPool2d-194           [-1, 1024, 1, 1]               0\n",
      "         Dropout-195                 [-1, 1024]               0\n",
      "          Linear-196                  [-1, 512]         524,800\n",
      "            ReLU-197                  [-1, 512]               0\n",
      "          Linear-198                  [-1, 128]          65,664\n",
      "            ReLU-199                  [-1, 128]               0\n",
      "          Linear-200                   [-1, 32]           4,128\n",
      "            ReLU-201                   [-1, 32]               0\n",
      "          Linear-202                    [-1, 2]              66\n",
      "================================================================\n",
      "Total params: 6,194,562\n",
      "Trainable params: 6,194,562\n",
      "Non-trainable params: 0\n",
      "----------------------------------------------------------------\n",
      "Input size (MB): 0.72\n",
      "Forward/backward pass size (MB): 114.08\n",
      "Params size (MB): 23.63\n",
      "Estimated Total Size (MB): 138.43\n",
      "----------------------------------------------------------------\n",
      "None\n"
     ]
    }
   ],
   "source": [
    "from torchsummary import summary\n",
    "\n",
    "print(summary(model, (3, 250, 250)))"
   ]
  },
  {
   "cell_type": "code",
   "execution_count": 11,
   "id": "ec9cc9a8",
   "metadata": {
    "execution": {
     "iopub.execute_input": "2023-12-15T07:04:29.111813Z",
     "iopub.status.busy": "2023-12-15T07:04:29.111205Z",
     "iopub.status.idle": "2023-12-15T07:04:29.113740Z",
     "shell.execute_reply": "2023-12-15T07:04:29.114178Z",
     "shell.execute_reply.started": "2022-01-04T21:00:25.590943Z"
    },
    "papermill": {
     "duration": 0.026324,
     "end_time": "2023-12-15T07:04:29.114319",
     "exception": false,
     "start_time": "2023-12-15T07:04:29.087995",
     "status": "completed"
    },
    "tags": []
   },
   "outputs": [],
   "source": [
    "# Loss and optimizer\n",
    "criterion = nn.CrossEntropyLoss()\n",
    "optimizer = optim.Adam(model.parameters(), lr=learning_rate)"
   ]
  },
  {
   "cell_type": "code",
   "execution_count": 12,
   "id": "de4923d9",
   "metadata": {
    "execution": {
     "iopub.execute_input": "2023-12-15T07:04:29.157178Z",
     "iopub.status.busy": "2023-12-15T07:04:29.156561Z",
     "iopub.status.idle": "2023-12-15T09:45:21.637413Z",
     "shell.execute_reply": "2023-12-15T09:45:21.636808Z",
     "shell.execute_reply.started": "2022-01-04T21:00:25.599440Z"
    },
    "papermill": {
     "duration": 9652.505468,
     "end_time": "2023-12-15T09:45:21.637588",
     "exception": false,
     "start_time": "2023-12-15T07:04:29.132120",
     "status": "completed"
    },
    "tags": []
   },
   "outputs": [
    {
     "name": "stderr",
     "output_type": "stream",
     "text": [
      "0it [00:00, ?it/s]91it [49:13, 32.45s/it]\n"
     ]
    },
    {
     "name": "stdout",
     "output_type": "stream",
     "text": [
      "Cost at epoch 0 is 0.454668789774507\n"
     ]
    },
    {
     "name": "stderr",
     "output_type": "stream",
     "text": [
      "91it [48:56, 32.27s/it]\n"
     ]
    },
    {
     "name": "stdout",
     "output_type": "stream",
     "text": [
      "Cost at epoch 1 is 0.3902227691896669\n"
     ]
    },
    {
     "name": "stderr",
     "output_type": "stream",
     "text": [
      "91it [45:20, 29.89s/it]\n"
     ]
    },
    {
     "name": "stdout",
     "output_type": "stream",
     "text": [
      "Cost at epoch 2 is 0.3642985265661072\n"
     ]
    },
    {
     "name": "stderr",
     "output_type": "stream",
     "text": [
      "91it [44:10, 29.12s/it]\n"
     ]
    },
    {
     "name": "stdout",
     "output_type": "stream",
     "text": [
      "Cost at epoch 3 is 0.326246515243918\n"
     ]
    },
    {
     "name": "stderr",
     "output_type": "stream",
     "text": [
      "91it [44:25, 29.29s/it]\n"
     ]
    },
    {
     "name": "stdout",
     "output_type": "stream",
     "text": [
      "Cost at epoch 4 is 0.27231691245521816\n"
     ]
    },
    {
     "name": "stderr",
     "output_type": "stream",
     "text": [
      "91it [44:44, 29.50s/it]\n"
     ]
    },
    {
     "name": "stdout",
     "output_type": "stream",
     "text": [
      "Cost at epoch 5 is 0.280312311313637\n"
     ]
    },
    {
     "name": "stderr",
     "output_type": "stream",
     "text": [
      "91it [44:44, 29.50s/it]\n"
     ]
    },
    {
     "name": "stdout",
     "output_type": "stream",
     "text": [
      "Cost at epoch 6 is 0.23251744595120896\n"
     ]
    },
    {
     "name": "stderr",
     "output_type": "stream",
     "text": [
      "91it [44:45, 29.51s/it]\n"
     ]
    },
    {
     "name": "stdout",
     "output_type": "stream",
     "text": [
      "Cost at epoch 7 is 0.22737234765356715\n"
     ]
    },
    {
     "name": "stderr",
     "output_type": "stream",
     "text": [
      "91it [44:37, 29.43s/it]\n"
     ]
    },
    {
     "name": "stdout",
     "output_type": "stream",
     "text": [
      "Cost at epoch 8 is 0.22214616970210285\n"
     ]
    },
    {
     "name": "stderr",
     "output_type": "stream",
     "text": [
      "91it [44:46, 29.52s/it]"
     ]
    },
    {
     "name": "stdout",
     "output_type": "stream",
     "text": [
      "Cost at epoch 9 is 0.1614197050374779\n"
     ]
    },
    {
     "name": "stderr",
     "output_type": "stream",
     "text": [
      "\n"
     ]
    }
   ],
   "source": [
    "# Train Network\n",
    "for epoch in range(num_epochs):\n",
    "    losses = []\n",
    "\n",
    "    for batch_idx, (data, targets) in tqdm(enumerate(train_loader)):\n",
    "        # Get data to cuda if possible\n",
    "        data = data.to(device=device,dtype=torch.float)\n",
    "        targets = targets.to(device=device)\n",
    "\n",
    "        # forward\n",
    "        scores = model(data)\n",
    "        loss = criterion(scores, targets)\n",
    "\n",
    "        losses.append(loss.item())\n",
    "\n",
    "        # backward\n",
    "        optimizer.zero_grad()\n",
    "        loss.backward()\n",
    "\n",
    "        # gradient descent or adam step\n",
    "        optimizer.step()\n",
    "\n",
    "    print(f\"Cost at epoch {epoch} is {sum(losses)/len(losses)}\")\n"
   ]
  },
  {
   "cell_type": "code",
   "execution_count": 13,
   "id": "d4d0c8f5",
   "metadata": {
    "execution": {
     "iopub.execute_input": "2023-12-15T09:45:25.850479Z",
     "iopub.status.busy": "2023-12-15T09:45:25.849607Z",
     "iopub.status.idle": "2023-12-15T09:45:25.852078Z",
     "shell.execute_reply": "2023-12-15T09:45:25.851572Z",
     "shell.execute_reply.started": "2022-01-04T23:27:36.156037Z"
    },
    "papermill": {
     "duration": 2.065552,
     "end_time": "2023-12-15T09:45:25.852217",
     "exception": false,
     "start_time": "2023-12-15T09:45:23.786665",
     "status": "completed"
    },
    "tags": []
   },
   "outputs": [],
   "source": [
    "# Check accuracy on training to see how good our model is\n",
    "def check_accuracy(loader, model):\n",
    "    num_correct = 0\n",
    "    num_samples = 0\n",
    "    model.eval()\n",
    "\n",
    "    with torch.no_grad():\n",
    "        for x, y in tqdm(loader):\n",
    "            x = x.to(device=device,dtype=torch.float)\n",
    "            y = y.to(device=device)\n",
    "\n",
    "            scores = model(x)\n",
    "            _, predictions = scores.max(1)\n",
    "            num_correct += (predictions == y).sum()\n",
    "            num_samples += predictions.size(0)\n",
    "\n",
    "        print(\n",
    "            f\"Got {num_correct} / {num_samples} with accuracy {float(num_correct)/float(num_samples)*100:.2f}\"\n",
    "        )\n",
    "\n",
    "    model.train()\n",
    "torch.save(model,'E:\\\\JK\\\\Vt\\\\model_full_1024.pth')"
   ]
  },
  {
   "cell_type": "code",
   "execution_count": 1,
   "id": "117081c0",
   "metadata": {
    "execution": {
     "iopub.execute_input": "2023-12-15T09:45:30.041666Z",
     "iopub.status.busy": "2023-12-15T09:45:30.040663Z",
     "iopub.status.idle": "2023-12-15T10:05:40.414983Z",
     "shell.execute_reply": "2023-12-15T10:05:40.416137Z",
     "shell.execute_reply.started": "2022-01-04T23:27:36.168075Z"
    },
    "papermill": {
     "duration": 1212.492312,
     "end_time": "2023-12-15T10:05:40.416507",
     "exception": false,
     "start_time": "2023-12-15T09:45:27.924195",
     "status": "completed"
    },
    "tags": []
   },
   "outputs": [
    {
     "name": "stdout",
     "output_type": "stream",
     "text": [
      "Checking accuracy on Training Set\n"
     ]
    },
    {
     "ename": "NameError",
     "evalue": "name 'check_accuracy' is not defined",
     "output_type": "error",
     "traceback": [
      "\u001b[1;31m---------------------------------------------------------------------------\u001b[0m",
      "\u001b[1;31mNameError\u001b[0m                                 Traceback (most recent call last)",
      "Cell \u001b[1;32mIn[1], line 2\u001b[0m\n\u001b[0;32m      1\u001b[0m \u001b[38;5;28mprint\u001b[39m(\u001b[38;5;124m\"\u001b[39m\u001b[38;5;124mChecking accuracy on Training Set\u001b[39m\u001b[38;5;124m\"\u001b[39m)\n\u001b[1;32m----> 2\u001b[0m check_accuracy(train_loader, model)\n\u001b[0;32m      4\u001b[0m \u001b[38;5;28mprint\u001b[39m(\u001b[38;5;124m\"\u001b[39m\u001b[38;5;124mChecking accuracy on Test Set\u001b[39m\u001b[38;5;124m\"\u001b[39m)\n\u001b[0;32m      5\u001b[0m check_accuracy(test_loader, model)\n",
      "\u001b[1;31mNameError\u001b[0m: name 'check_accuracy' is not defined"
     ]
    }
   ],
   "source": [
    "print(\"Checking accuracy on Training Set\")\n",
    "check_accuracy(train_loader, model)\n",
    "\n",
    "print(\"Checking accuracy on Test Set\")\n",
    "check_accuracy(test_loader, model)"
   ]
  },
  {
   "cell_type": "code",
   "execution_count": 36,
   "id": "72775efb",
   "metadata": {},
   "outputs": [],
   "source": [
    "torch.save(model.state_dict(),'E:\\\\JK\\\\Vt\\\\model_dict.pth')"
   ]
  },
  {
   "cell_type": "code",
   "execution_count": 37,
   "id": "8179a171",
   "metadata": {},
   "outputs": [],
   "source": [
    "torch.save(model,'E:\\\\JK\\\\Vt\\\\model_full.pth')"
   ]
  },
  {
   "cell_type": "code",
   "execution_count": 1,
   "id": "0ed2b604",
   "metadata": {},
   "outputs": [
    {
     "ename": "NameError",
     "evalue": "name 'torch' is not defined",
     "output_type": "error",
     "traceback": [
      "\u001b[1;31m---------------------------------------------------------------------------\u001b[0m",
      "\u001b[1;31mNameError\u001b[0m                                 Traceback (most recent call last)",
      "Cell \u001b[1;32mIn[1], line 1\u001b[0m\n\u001b[1;32m----> 1\u001b[0m the_model \u001b[38;5;241m=\u001b[39m torch\u001b[38;5;241m.\u001b[39mload(\u001b[38;5;124m'\u001b[39m\u001b[38;5;124mE:\u001b[39m\u001b[38;5;130;01m\\\\\u001b[39;00m\u001b[38;5;124mJK\u001b[39m\u001b[38;5;130;01m\\\\\u001b[39;00m\u001b[38;5;124mVt\u001b[39m\u001b[38;5;130;01m\\\\\u001b[39;00m\u001b[38;5;124mmodel_full.pth\u001b[39m\u001b[38;5;124m'\u001b[39m)\n\u001b[0;32m      2\u001b[0m the_model\u001b[38;5;241m.\u001b[39meval\n",
      "\u001b[1;31mNameError\u001b[0m: name 'torch' is not defined"
     ]
    }
   ],
   "source": [
    "the_model = torch.load('E:\\\\JK\\\\Vt\\\\model_full.pth')\n",
    "the_model.eval"
   ]
  },
  {
   "cell_type": "code",
   "execution_count": 2,
   "id": "a755e67e",
   "metadata": {},
   "outputs": [
    {
     "name": "stdout",
     "output_type": "stream",
     "text": [
      "Checking accuracy on Test Set\n"
     ]
    },
    {
     "ename": "NameError",
     "evalue": "name 'check_accuracy' is not defined",
     "output_type": "error",
     "traceback": [
      "\u001b[1;31m---------------------------------------------------------------------------\u001b[0m",
      "\u001b[1;31mNameError\u001b[0m                                 Traceback (most recent call last)",
      "Cell \u001b[1;32mIn[2], line 2\u001b[0m\n\u001b[0;32m      1\u001b[0m \u001b[38;5;28mprint\u001b[39m(\u001b[38;5;124m\"\u001b[39m\u001b[38;5;124mChecking accuracy on Test Set\u001b[39m\u001b[38;5;124m\"\u001b[39m)\n\u001b[1;32m----> 2\u001b[0m check_accuracy(test_loader, the_model)\n",
      "\u001b[1;31mNameError\u001b[0m: name 'check_accuracy' is not defined"
     ]
    }
   ],
   "source": [
    "print(\"Checking accuracy on Test Set\")\n",
    "check_accuracy(test_loader, the_model)"
   ]
  },
  {
   "cell_type": "code",
   "execution_count": 3,
   "id": "e4d22e78",
   "metadata": {},
   "outputs": [],
   "source": [
    "import torch\n",
    "from sklearn.metrics import confusion_matrix\n",
    "import seaborn as sns\n",
    "import matplotlib.pyplot as plt\n",
    "\n",
    "def check_accuracy(loader, model):\n",
    "    num_correct = 0\n",
    "    num_samples = 0\n",
    "    model.eval()\n",
    "    y_true = []\n",
    "    y_pred = []\n",
    "\n",
    "    with torch.no_grad():\n",
    "        for x, y in tqdm(loader):\n",
    "            x = x.to(device=device, dtype=torch.float)\n",
    "            y = y.to(device=device)\n",
    "\n",
    "            scores = model(x)\n",
    "            _, predictions = scores.max(1)\n",
    "            num_correct += (predictions == y).sum()\n",
    "            num_samples += predictions.size(0)\n",
    "\n",
    "            y_true.extend(y.cpu().numpy())\n",
    "            y_pred.extend(predictions.cpu().numpy())\n",
    "\n",
    "        print(\n",
    "            f\"Got {num_correct} / {num_samples} with accuracy {float(num_correct)/float(num_samples)*100:.2f}\"\n",
    "        )\n",
    "\n",
    "        # Calculate and display the confusion matrix\n",
    "        cm = confusion_matrix(y_true, y_pred)\n",
    "        plt.figure(figsize=(8, 6))\n",
    "        sns.heatmap(cm, annot=True, cmap='Blues', fmt='g', cbar=False)\n",
    "        plt.xlabel('Predicted')\n",
    "        plt.ylabel('Actual')\n",
    "        plt.title('Confusion Matrix')\n",
    "        plt.show()\n",
    "\n",
    "    model.train()"
   ]
  },
  {
   "cell_type": "code",
   "execution_count": 4,
   "id": "a29b3e75",
   "metadata": {},
   "outputs": [
    {
     "name": "stdout",
     "output_type": "stream",
     "text": [
      "Checking accuracy on Test Set\n"
     ]
    },
    {
     "ename": "NameError",
     "evalue": "name 'test_loader' is not defined",
     "output_type": "error",
     "traceback": [
      "\u001b[1;31m---------------------------------------------------------------------------\u001b[0m",
      "\u001b[1;31mNameError\u001b[0m                                 Traceback (most recent call last)",
      "Cell \u001b[1;32mIn[4], line 2\u001b[0m\n\u001b[0;32m      1\u001b[0m \u001b[38;5;28mprint\u001b[39m(\u001b[38;5;124m\"\u001b[39m\u001b[38;5;124mChecking accuracy on Test Set\u001b[39m\u001b[38;5;124m\"\u001b[39m)\n\u001b[1;32m----> 2\u001b[0m check_accuracy(test_loader, model)\n",
      "\u001b[1;31mNameError\u001b[0m: name 'test_loader' is not defined"
     ]
    }
   ],
   "source": [
    "print(\"Checking accuracy on Test Set\")\n",
    "check_accuracy(test_loader, model)"
   ]
  },
  {
   "cell_type": "code",
   "execution_count": null,
   "id": "247797a5",
   "metadata": {},
   "outputs": [],
   "source": [
    "from PIL import Image\n",
    "import torchvision.transforms as transforms\n",
    "img = Image.open('E:\\\\JK\\\\Vt\\\\non_cluster.17.jpg')\n",
    "transform=transforms.ToTensor()\n",
    "tensor = transform(img)\n",
    "model(tensor.unsqueeze(0))"
   ]
  },
  {
   "cell_type": "code",
   "execution_count": null,
   "id": "a4f70bf2",
   "metadata": {},
   "outputs": [],
   "source": [
    "import torch\n",
    "from torchvision import transforms\n",
    "from PIL import Image\n",
    "\n",
    "# Load and preprocess the image\n",
    "image_path = 'E:\\\\JK\\\\Vt\\\\cluster.1.jpg'\n",
    "image = Image.open(image_path)\n",
    "\n",
    "# Define the transformation to apply to the image\n",
    "transform = transforms.Compose([\n",
    "    transforms.Resize((1024, 1024)),  # Resize the image to match the input size of the model\n",
    "    transforms.ToTensor(),  # Convert the image to a tensor\n",
    "    #transforms.Normalize(mean=[0.485, 0.456, 0.406], std=[0.229, 0.224, 0.225])  # Normalize pixel values\n",
    "])\n",
    "\n",
    "# Apply the transformation to the image\n",
    "input_image = transform(image).unsqueeze(0)\n",
    "\n",
    "# Load the pre-trained model\n",
    "#model = torch.load('/content/model_full.pth')\n",
    "model.eval()  # Set the model to evaluation mode\n",
    "\n",
    "# Make predictions\n",
    "with torch.no_grad():\n",
    "    output = model(input_image)\n",
    "    probabilities = torch.sigmoid(output)  # Apply sigmoid activation to get probabilities\n",
    "    #threshold = 0.5  # Set the threshold for binary classification\n",
    "    #predictions = (probabilities > threshold).int()  # Convert probabilities to binary predictions\n",
    "\n",
    "# Print the predictions\n",
    "print('probabilities',probabilities)"
   ]
  },
  {
   "cell_type": "code",
   "execution_count": null,
   "id": "0d6cede7",
   "metadata": {},
   "outputs": [],
   "source": [
    "import torch\n",
    "import torchvision.models as models\n",
    "import torchvision.transforms as transforms\n",
    "from PIL import Image\n",
    "\n",
    "\n",
    "\n",
    "# Load the image and preprocess\n",
    "def preprocess_image(image_path):\n",
    "    image = Image.open(image_path)\n",
    "    preprocess = transforms.Compose([\n",
    "        #transforms.Resize(256),\n",
    "        transforms.Resize((1024, 1024)),\n",
    "        #transforms.CenterCrop(224),\n",
    "        transforms.ToTensor(),\n",
    "        #transforms.Normalize(mean=[0.485, 0.456, 0.406], std=[0.229, 0.224, 0.225]),\n",
    "    ])\n",
    "    input_tensor = preprocess(image)\n",
    "    input_batch = input_tensor.unsqueeze(0)  # Add a batch dimension\n",
    "    return input_batch\n",
    "\n",
    "# Make predictions\n",
    "def predict_image(model, input_tensor):\n",
    "    model.eval()\n",
    "    with torch.no_grad():\n",
    "        output = model(input_tensor)\n",
    "        probabilities = torch.nn.functional.softmax(output[0], dim=0)\n",
    "        predicted_class = torch.argmax(probabilities).item()\n",
    "        return predicted_class, probabilities\n",
    "\n",
    "# Example usage\n",
    "#image_path = 'E:\\\\JK\\\\Vt\\\\12.jpg'\n",
    "input_tensor = preprocess_image(image_path)\n",
    "predicted_class, class_probabilities = predict_image(model, input_tensor)\n",
    "print(predicted_class)"
   ]
  },
  {
   "cell_type": "code",
   "execution_count": null,
   "id": "79390498",
   "metadata": {},
   "outputs": [],
   "source": [
    "#!pip install gradio_hdrimage"
   ]
  },
  {
   "cell_type": "code",
   "execution_count": null,
   "id": "98182da3",
   "metadata": {},
   "outputs": [],
   "source": [
    "import torch\n",
    "import cv2\n",
    "import torchvision.models as models\n",
    "import torchvision.transforms as transforms\n",
    "from PIL import Image\n",
    "\n",
    "# Make predictions\n",
    "def predict_image(model, input_tensor):\n",
    "    model.eval()\n",
    "    with torch.no_grad():\n",
    "        output = model(input_tensor)\n",
    "        probabilities = torch.nn.functional.softmax(output[0], dim=0)\n",
    "        predicted_class = torch.argmax(probabilities).item()\n",
    "        if predicted_class ==0:\n",
    "           img = cv2.imread('E:\\\\JK\\\\Vt\\\\out_non_cluster.jpg')\n",
    "           return img\n",
    "        if predicted_class ==1:\n",
    "           img = cv2.imread('E:\\\\JK\\\\Vt\\\\out_cluster.jpg')\n",
    "           return img \n",
    "\n",
    "\n",
    "# Load the image and preprocess\n",
    "def preprocess_image(image_path):\n",
    "    image = Image.open(image_path)\n",
    "    preprocess = transforms.Compose([\n",
    "        #transforms.Resize(256),\n",
    "        transforms.Resize((1024, 1024)),\n",
    "        #transforms.CenterCrop(224),\n",
    "        transforms.ToTensor(),\n",
    "        #transforms.Normalize(mean=[0.485, 0.456, 0.406], std=[0.229, 0.224, 0.225]),\n",
    "    ])\n",
    "    input_tensor = preprocess(image)\n",
    "    input_batch = input_tensor.unsqueeze(0)  # Add a batch dimension\n",
    "    image=predict_image(model,input_batch)\n",
    "    return image\n",
    "\n",
    "\n",
    "           \n",
    "\n",
    "\n",
    "#input_tensor = preprocess_image(image_path)\n",
    "#predicted_class, class_probabilities = predict_image(model, input_tensor)\n",
    "#print(predicted_class)"
   ]
  },
  {
   "cell_type": "code",
   "execution_count": null,
   "id": "a037796f",
   "metadata": {},
   "outputs": [],
   "source": [
    "import gradio as gr\n",
    "from gradio_hdrimage import HDRImage\n",
    "#example = HDRImage().example_inputs()\n",
    "\n",
    "demo = gr.Interface(\n",
    "    fn=preprocess_image, inputs=\"file\", outputs=\"image\"\n",
    "    #lambda x:x,\n",
    "    #HDRImage(),  # interactive version of your component\n",
    "    #HDRImage(),  # static version of your component\n",
    "     #examples=[[example]],  # uncomment this line to view the \"example version\" of your component\n",
    ")\n",
    "\n",
    "\n",
    "if __name__ == \"__main__\":\n",
    "    demo.launch(share=True)"
   ]
  },
  {
   "cell_type": "code",
   "execution_count": null,
   "id": "0ab2b340",
   "metadata": {},
   "outputs": [],
   "source": []
  }
 ],
 "metadata": {
  "kaggle": {
   "accelerator": "gpu",
   "dataSources": [
    {
     "datasetId": 1840863,
     "sourceId": 3004992,
     "sourceType": "datasetVersion"
    }
   ],
   "dockerImageVersionId": 30153,
   "isGpuEnabled": true,
   "isInternetEnabled": true,
   "language": "python",
   "sourceType": "notebook"
  },
  "kernelspec": {
   "display_name": "Python 3 (ipykernel)",
   "language": "python",
   "name": "python3"
  },
  "language_info": {
   "codemirror_mode": {
    "name": "ipython",
    "version": 3
   },
   "file_extension": ".py",
   "mimetype": "text/x-python",
   "name": "python",
   "nbconvert_exporter": "python",
   "pygments_lexer": "ipython3",
   "version": "3.11.5"
  },
  "papermill": {
   "default_parameters": {},
   "duration": 10916.503613,
   "end_time": "2023-12-15T10:05:44.398263",
   "environment_variables": {},
   "exception": null,
   "input_path": "__notebook__.ipynb",
   "output_path": "__notebook__.ipynb",
   "parameters": {},
   "start_time": "2023-12-15T07:03:47.894650",
   "version": "2.3.3"
  },
  "widgets": {
   "application/vnd.jupyter.widget-state+json": {
    "state": {
     "1357100f7d2e45f7a427b915893fea77": {
      "model_module": "@jupyter-widgets/controls",
      "model_module_version": "1.5.0",
      "model_name": "FloatProgressModel",
      "state": {
       "_dom_classes": [],
       "_model_module": "@jupyter-widgets/controls",
       "_model_module_version": "1.5.0",
       "_model_name": "FloatProgressModel",
       "_view_count": null,
       "_view_module": "@jupyter-widgets/controls",
       "_view_module_version": "1.5.0",
       "_view_name": "ProgressView",
       "bar_style": "success",
       "description": "",
       "description_tooltip": null,
       "layout": "IPY_MODEL_96ccbaa2a88a4ff48e299e2d8b6fa04d",
       "max": 52147035,
       "min": 0,
       "orientation": "horizontal",
       "style": "IPY_MODEL_9585d13c950f4dcf80f8dd31daadbf92",
       "value": 52147035
      }
     },
     "22376a1ecc954e62ba89bdfeac6aefd4": {
      "model_module": "@jupyter-widgets/base",
      "model_module_version": "1.2.0",
      "model_name": "LayoutModel",
      "state": {
       "_model_module": "@jupyter-widgets/base",
       "_model_module_version": "1.2.0",
       "_model_name": "LayoutModel",
       "_view_count": null,
       "_view_module": "@jupyter-widgets/base",
       "_view_module_version": "1.2.0",
       "_view_name": "LayoutView",
       "align_content": null,
       "align_items": null,
       "align_self": null,
       "border": null,
       "bottom": null,
       "display": null,
       "flex": null,
       "flex_flow": null,
       "grid_area": null,
       "grid_auto_columns": null,
       "grid_auto_flow": null,
       "grid_auto_rows": null,
       "grid_column": null,
       "grid_gap": null,
       "grid_row": null,
       "grid_template_areas": null,
       "grid_template_columns": null,
       "grid_template_rows": null,
       "height": null,
       "justify_content": null,
       "justify_items": null,
       "left": null,
       "margin": null,
       "max_height": null,
       "max_width": null,
       "min_height": null,
       "min_width": null,
       "object_fit": null,
       "object_position": null,
       "order": null,
       "overflow": null,
       "overflow_x": null,
       "overflow_y": null,
       "padding": null,
       "right": null,
       "top": null,
       "visibility": null,
       "width": null
      }
     },
     "5018437619d649b09c835031e7177a62": {
      "model_module": "@jupyter-widgets/controls",
      "model_module_version": "1.5.0",
      "model_name": "DescriptionStyleModel",
      "state": {
       "_model_module": "@jupyter-widgets/controls",
       "_model_module_version": "1.5.0",
       "_model_name": "DescriptionStyleModel",
       "_view_count": null,
       "_view_module": "@jupyter-widgets/base",
       "_view_module_version": "1.2.0",
       "_view_name": "StyleView",
       "description_width": ""
      }
     },
     "52d763da5dd543abb0769bbc9461f635": {
      "model_module": "@jupyter-widgets/base",
      "model_module_version": "1.2.0",
      "model_name": "LayoutModel",
      "state": {
       "_model_module": "@jupyter-widgets/base",
       "_model_module_version": "1.2.0",
       "_model_name": "LayoutModel",
       "_view_count": null,
       "_view_module": "@jupyter-widgets/base",
       "_view_module_version": "1.2.0",
       "_view_name": "LayoutView",
       "align_content": null,
       "align_items": null,
       "align_self": null,
       "border": null,
       "bottom": null,
       "display": null,
       "flex": null,
       "flex_flow": null,
       "grid_area": null,
       "grid_auto_columns": null,
       "grid_auto_flow": null,
       "grid_auto_rows": null,
       "grid_column": null,
       "grid_gap": null,
       "grid_row": null,
       "grid_template_areas": null,
       "grid_template_columns": null,
       "grid_template_rows": null,
       "height": null,
       "justify_content": null,
       "justify_items": null,
       "left": null,
       "margin": null,
       "max_height": null,
       "max_width": null,
       "min_height": null,
       "min_width": null,
       "object_fit": null,
       "object_position": null,
       "order": null,
       "overflow": null,
       "overflow_x": null,
       "overflow_y": null,
       "padding": null,
       "right": null,
       "top": null,
       "visibility": null,
       "width": null
      }
     },
     "597b1d10da32430981bebf265cbcb0ee": {
      "model_module": "@jupyter-widgets/controls",
      "model_module_version": "1.5.0",
      "model_name": "HTMLModel",
      "state": {
       "_dom_classes": [],
       "_model_module": "@jupyter-widgets/controls",
       "_model_module_version": "1.5.0",
       "_model_name": "HTMLModel",
       "_view_count": null,
       "_view_module": "@jupyter-widgets/controls",
       "_view_module_version": "1.5.0",
       "_view_name": "HTMLView",
       "description": "",
       "description_tooltip": null,
       "layout": "IPY_MODEL_96f92889b64d4c3e9314917f82896d25",
       "placeholder": "​",
       "style": "IPY_MODEL_de3fd672a08f4f539d895c64b49e86bd",
       "value": "100%"
      }
     },
     "9585d13c950f4dcf80f8dd31daadbf92": {
      "model_module": "@jupyter-widgets/controls",
      "model_module_version": "1.5.0",
      "model_name": "ProgressStyleModel",
      "state": {
       "_model_module": "@jupyter-widgets/controls",
       "_model_module_version": "1.5.0",
       "_model_name": "ProgressStyleModel",
       "_view_count": null,
       "_view_module": "@jupyter-widgets/base",
       "_view_module_version": "1.2.0",
       "_view_name": "StyleView",
       "bar_color": null,
       "description_width": ""
      }
     },
     "96ccbaa2a88a4ff48e299e2d8b6fa04d": {
      "model_module": "@jupyter-widgets/base",
      "model_module_version": "1.2.0",
      "model_name": "LayoutModel",
      "state": {
       "_model_module": "@jupyter-widgets/base",
       "_model_module_version": "1.2.0",
       "_model_name": "LayoutModel",
       "_view_count": null,
       "_view_module": "@jupyter-widgets/base",
       "_view_module_version": "1.2.0",
       "_view_name": "LayoutView",
       "align_content": null,
       "align_items": null,
       "align_self": null,
       "border": null,
       "bottom": null,
       "display": null,
       "flex": null,
       "flex_flow": null,
       "grid_area": null,
       "grid_auto_columns": null,
       "grid_auto_flow": null,
       "grid_auto_rows": null,
       "grid_column": null,
       "grid_gap": null,
       "grid_row": null,
       "grid_template_areas": null,
       "grid_template_columns": null,
       "grid_template_rows": null,
       "height": null,
       "justify_content": null,
       "justify_items": null,
       "left": null,
       "margin": null,
       "max_height": null,
       "max_width": null,
       "min_height": null,
       "min_width": null,
       "object_fit": null,
       "object_position": null,
       "order": null,
       "overflow": null,
       "overflow_x": null,
       "overflow_y": null,
       "padding": null,
       "right": null,
       "top": null,
       "visibility": null,
       "width": null
      }
     },
     "96f92889b64d4c3e9314917f82896d25": {
      "model_module": "@jupyter-widgets/base",
      "model_module_version": "1.2.0",
      "model_name": "LayoutModel",
      "state": {
       "_model_module": "@jupyter-widgets/base",
       "_model_module_version": "1.2.0",
       "_model_name": "LayoutModel",
       "_view_count": null,
       "_view_module": "@jupyter-widgets/base",
       "_view_module_version": "1.2.0",
       "_view_name": "LayoutView",
       "align_content": null,
       "align_items": null,
       "align_self": null,
       "border": null,
       "bottom": null,
       "display": null,
       "flex": null,
       "flex_flow": null,
       "grid_area": null,
       "grid_auto_columns": null,
       "grid_auto_flow": null,
       "grid_auto_rows": null,
       "grid_column": null,
       "grid_gap": null,
       "grid_row": null,
       "grid_template_areas": null,
       "grid_template_columns": null,
       "grid_template_rows": null,
       "height": null,
       "justify_content": null,
       "justify_items": null,
       "left": null,
       "margin": null,
       "max_height": null,
       "max_width": null,
       "min_height": null,
       "min_width": null,
       "object_fit": null,
       "object_position": null,
       "order": null,
       "overflow": null,
       "overflow_x": null,
       "overflow_y": null,
       "padding": null,
       "right": null,
       "top": null,
       "visibility": null,
       "width": null
      }
     },
     "b6ab2fd6b8ec4793bbfd7e9c514b98a4": {
      "model_module": "@jupyter-widgets/controls",
      "model_module_version": "1.5.0",
      "model_name": "HTMLModel",
      "state": {
       "_dom_classes": [],
       "_model_module": "@jupyter-widgets/controls",
       "_model_module_version": "1.5.0",
       "_model_name": "HTMLModel",
       "_view_count": null,
       "_view_module": "@jupyter-widgets/controls",
       "_view_module_version": "1.5.0",
       "_view_name": "HTMLView",
       "description": "",
       "description_tooltip": null,
       "layout": "IPY_MODEL_52d763da5dd543abb0769bbc9461f635",
       "placeholder": "​",
       "style": "IPY_MODEL_5018437619d649b09c835031e7177a62",
       "value": " 49.7M/49.7M [00:00&lt;00:00, 135MB/s]"
      }
     },
     "de3fd672a08f4f539d895c64b49e86bd": {
      "model_module": "@jupyter-widgets/controls",
      "model_module_version": "1.5.0",
      "model_name": "DescriptionStyleModel",
      "state": {
       "_model_module": "@jupyter-widgets/controls",
       "_model_module_version": "1.5.0",
       "_model_name": "DescriptionStyleModel",
       "_view_count": null,
       "_view_module": "@jupyter-widgets/base",
       "_view_module_version": "1.2.0",
       "_view_name": "StyleView",
       "description_width": ""
      }
     },
     "eee2a376334a4922b493d4c48beb8b4a": {
      "model_module": "@jupyter-widgets/controls",
      "model_module_version": "1.5.0",
      "model_name": "HBoxModel",
      "state": {
       "_dom_classes": [],
       "_model_module": "@jupyter-widgets/controls",
       "_model_module_version": "1.5.0",
       "_model_name": "HBoxModel",
       "_view_count": null,
       "_view_module": "@jupyter-widgets/controls",
       "_view_module_version": "1.5.0",
       "_view_name": "HBoxView",
       "box_style": "",
       "children": [
        "IPY_MODEL_597b1d10da32430981bebf265cbcb0ee",
        "IPY_MODEL_1357100f7d2e45f7a427b915893fea77",
        "IPY_MODEL_b6ab2fd6b8ec4793bbfd7e9c514b98a4"
       ],
       "layout": "IPY_MODEL_22376a1ecc954e62ba89bdfeac6aefd4"
      }
     }
    },
    "version_major": 2,
    "version_minor": 0
   }
  }
 },
 "nbformat": 4,
 "nbformat_minor": 5
}
