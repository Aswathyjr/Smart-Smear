{
 "cells": [
  {
   "cell_type": "code",
   "execution_count": 5,
   "id": "6cb99ce1",
   "metadata": {},
   "outputs": [
    {
     "name": "stdout",
     "output_type": "stream",
     "text": [
      "Running on local URL:  http://127.0.0.1:7895\n",
      "\n",
      "To create a public link, set `share=True` in `launch()`.\n"
     ]
    },
    {
     "data": {
      "text/html": [
       "<div><iframe src=\"http://127.0.0.1:7895/\" width=\"100%\" height=\"500\" allow=\"autoplay; camera; microphone; clipboard-read; clipboard-write;\" frameborder=\"0\" allowfullscreen></iframe></div>"
      ],
      "text/plain": [
       "<IPython.core.display.HTML object>"
      ]
     },
     "metadata": {},
     "output_type": "display_data"
    },
    {
     "data": {
      "text/plain": []
     },
     "execution_count": 5,
     "metadata": {},
     "output_type": "execute_result"
    }
   ],
   "source": [
    "import gradio as gr\n",
    "import random\n",
    "import os\n",
    "\n",
    "\n",
    "def greet_number(name):\n",
    "    greeting = \"Hello \" + name\n",
    "    lucky_number = random.randint(1, 100)\n",
    "    return greeting, lucky_number\n",
    "\n",
    "\n",
    "# Get absolute path of image file\n",
    "image_path = 'E:\\\\cerv\\\\train\\\\cluster.1.jpg' # Replace with your image file path\n",
    "\n",
    "absolute_path = os.path.abspath(image_path)\n",
    "\n",
    "\n",
    "demo = gr.Interface(fn=greet_number,\n",
    "                    inputs=gr.Textbox(label=\"Name\", placeholder=\"Enter Name Here\"),\n",
    "                    outputs=[gr.Textbox(label=\"Greeting\"), gr.Number(label=\"Your Lucky Number\")],\n",
    "                    title=\"GreetLucky\",\n",
    "                    css=\".gradio-container {background: url('file=image.png')}\"  # <--- set image name as 'file=*name of image file*'\n",
    "                    )\n",
    "\n",
    "# Pass absolute path of image to allowed_paths= parameter\n",
    "demo.launch(allowed_paths=[absolute_path])"
   ]
  },
  {
   "cell_type": "code",
   "execution_count": null,
   "id": "9c5f03ac",
   "metadata": {},
   "outputs": [],
   "source": []
  }
 ],
 "metadata": {
  "kernelspec": {
   "display_name": "Python 3 (ipykernel)",
   "language": "python",
   "name": "python3"
  },
  "language_info": {
   "codemirror_mode": {
    "name": "ipython",
    "version": 3
   },
   "file_extension": ".py",
   "mimetype": "text/x-python",
   "name": "python",
   "nbconvert_exporter": "python",
   "pygments_lexer": "ipython3",
   "version": "3.11.5"
  }
 },
 "nbformat": 4,
 "nbformat_minor": 5
}
