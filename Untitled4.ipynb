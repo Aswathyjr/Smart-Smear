{
 "cells": [
  {
   "cell_type": "code",
   "execution_count": 4,
   "id": "edaf71a7",
   "metadata": {},
   "outputs": [
    {
     "ename": "NameError",
     "evalue": "name 'preprocess_image' is not defined",
     "output_type": "error",
     "traceback": [
      "\u001b[1;31m---------------------------------------------------------------------------\u001b[0m",
      "\u001b[1;31mNameError\u001b[0m                                 Traceback (most recent call last)",
      "Cell \u001b[1;32mIn[4], line 6\u001b[0m\n\u001b[0;32m      2\u001b[0m \u001b[38;5;28;01mfrom\u001b[39;00m \u001b[38;5;21;01mgradio_hdrimage\u001b[39;00m \u001b[38;5;28;01mimport\u001b[39;00m HDRImage\n\u001b[0;32m      3\u001b[0m \u001b[38;5;66;03m#example = HDRImage().example_inputs()\u001b[39;00m\n\u001b[0;32m      5\u001b[0m demo \u001b[38;5;241m=\u001b[39m gr\u001b[38;5;241m.\u001b[39mInterface(\n\u001b[1;32m----> 6\u001b[0m     fn\u001b[38;5;241m=\u001b[39mpreprocess_image, inputs\u001b[38;5;241m=\u001b[39m\u001b[38;5;124m\"\u001b[39m\u001b[38;5;124mfile\u001b[39m\u001b[38;5;124m\"\u001b[39m, outputs\u001b[38;5;241m=\u001b[39m\u001b[38;5;124m\"\u001b[39m\u001b[38;5;124mimage\u001b[39m\u001b[38;5;124m\"\u001b[39m,title\u001b[38;5;241m=\u001b[39m\u001b[38;5;124m\"\u001b[39m\u001b[38;5;124mAI BASED CERVICAL IMAGE ANALYSIS FOR HPV DETECTION\u001b[39m\u001b[38;5;124m\"\u001b[39m,\n\u001b[0;32m      7\u001b[0m     description\u001b[38;5;241m=\u001b[39m\u001b[38;5;124m\"\u001b[39m\u001b[38;5;124mEnter some text to capitalize:\u001b[39m\u001b[38;5;124m\"\u001b[39m,\n\u001b[0;32m      8\u001b[0m     css\u001b[38;5;241m=\u001b[39m\u001b[38;5;124m\"\"\"\u001b[39m\n\u001b[0;32m      9\u001b[0m \u001b[38;5;124m    .gradio-app-title \u001b[39m\u001b[38;5;124m{\u001b[39m\n\u001b[0;32m     10\u001b[0m \u001b[38;5;124m        text-align: center;\u001b[39m\n\u001b[0;32m     11\u001b[0m \u001b[38;5;124m    }\u001b[39m\n\u001b[0;32m     12\u001b[0m \u001b[38;5;124m    \u001b[39m\u001b[38;5;124m\"\"\"\u001b[39m,\n\u001b[0;32m     13\u001b[0m     \n\u001b[0;32m     14\u001b[0m     \u001b[38;5;66;03m#lambda x:x,\u001b[39;00m\n\u001b[0;32m     15\u001b[0m     \u001b[38;5;66;03m#HDRImage(),  # interactive version of your component\u001b[39;00m\n\u001b[0;32m     16\u001b[0m     \u001b[38;5;66;03m#HDRImage(),  # static version of your component\u001b[39;00m\n\u001b[0;32m     17\u001b[0m      \u001b[38;5;66;03m#examples=[[example]],  # uncomment this line to view the \"example version\" of your component\u001b[39;00m\n\u001b[0;32m     18\u001b[0m )\n\u001b[0;32m     22\u001b[0m \u001b[38;5;28;01mif\u001b[39;00m \u001b[38;5;18m__name__\u001b[39m \u001b[38;5;241m==\u001b[39m \u001b[38;5;124m\"\u001b[39m\u001b[38;5;124m__main__\u001b[39m\u001b[38;5;124m\"\u001b[39m:\n\u001b[0;32m     23\u001b[0m     demo\u001b[38;5;241m.\u001b[39mlaunch(share\u001b[38;5;241m=\u001b[39m\u001b[38;5;28;01mTrue\u001b[39;00m)\n",
      "\u001b[1;31mNameError\u001b[0m: name 'preprocess_image' is not defined"
     ]
    }
   ],
   "source": [
    "import gradio as gr\n",
    "from gradio_hdrimage import HDRImage\n",
    "#example = HDRImage().example_inputs()\n",
    "\n",
    "demo = gr.Interface(\n",
    "    fn=preprocess_image, inputs=\"file\", outputs=\"image\",title=\"AI BASED CERVICAL IMAGE ANALYSIS FOR HPV DETECTION\",\n",
    "    description=\"Enter some text to capitalize:\",\n",
    "    css=\"\"\"\n",
    "    .gradio-app-title {\n",
    "        text-align: center;\n",
    "    }\n",
    "    \"\"\",\n",
    "    \n",
    "    #lambda x:x,\n",
    "    #HDRImage(),  # interactive version of your component\n",
    "    #HDRImage(),  # static version of your component\n",
    "     #examples=[[example]],  # uncomment this line to view the \"example version\" of your component\n",
    ")\n",
    " \n",
    "\n",
    "\n",
    "if __name__ == \"__main__\":\n",
    "    demo.launch(share=True)"
   ]
  },
  {
   "cell_type": "code",
   "execution_count": null,
   "id": "5bfc2ef4",
   "metadata": {},
   "outputs": [],
   "source": []
  }
 ],
 "metadata": {
  "kernelspec": {
   "display_name": "Python 3 (ipykernel)",
   "language": "python",
   "name": "python3"
  },
  "language_info": {
   "codemirror_mode": {
    "name": "ipython",
    "version": 3
   },
   "file_extension": ".py",
   "mimetype": "text/x-python",
   "name": "python",
   "nbconvert_exporter": "python",
   "pygments_lexer": "ipython3",
   "version": "3.11.5"
  }
 },
 "nbformat": 4,
 "nbformat_minor": 5
}
