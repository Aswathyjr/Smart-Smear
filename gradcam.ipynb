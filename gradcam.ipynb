{
 "cells": [
  {
   "cell_type": "code",
   "execution_count": null,
   "id": "18c41a57",
   "metadata": {},
   "outputs": [],
   "source": [
    "import torch\n",
    "import torchvision.models as models\n",
    "import numpy as np\n",
    "import cv2\n",
    "from pytorch_grad_cam import GradCAM\n",
    "from torchvision import transforms\n",
    "\n",
    "import torch\n",
    "model = torch.load('E:\\\\Vt\\\\model_full_1024.pth')\n",
    "# Get the last convolutional layer of the model\n",
    "target_layer = [model.inception5b]  # Choose the target layer for visualization\n",
    "\n",
    "# Create an instance of the GradCAM library\n",
    "gradcam = GradCAM(model, target_layer)\n",
    "\n",
    "# Load and preprocess an input image\n",
    "input_image_path = 'E:\\\\Vt\\\\62.jpg'\n",
    "input_image = cv2.imread(input_image_path, 1)\n",
    "input_image = cv2.resize(input_image, (1024,1024))\n",
    "input_tensor = transforms.ToTensor()(input_image).unsqueeze(0)\n",
    "\n",
    "# Generate the heatmap for GradCAM\n",
    "heatmap = gradcam(input_tensor)\n",
    "\n",
    "# Convert the heatmap to a numpy array\n",
    "heatmap = heatmap[0, :, :].data\n",
    "heatmap = np.maximum(heatmap, 0)\n",
    "heatmap /= np.max(heatmap)\n",
    "\n",
    "# Resize the input image and overlay the heatmap\n",
    "heatmap = cv2.resize(heatmap, (input_image.shape[1], input_image.shape[0]))\n",
    "heatmap = np.uint8(255 * heatmap)\n",
    "heatmap = cv2.applyColorMap(heatmap, cv2.COLORMAP_JET)\n",
    "result = heatmap * 0.5 + input_image * 0.5\n",
    "\n",
    "# Display the original image and GradCAM heatmap\n",
    "cv2.imshow('Original Image', input_image)\n",
    "cv2.imshow('GradCAM Heatmap', heatmap)\n",
    "#cv2.imshow('Result', result)\n",
    "cv2.waitKey(0)\n",
    "cv2.destroyAllWindows()"
   ]
  },
  {
   "cell_type": "code",
   "execution_count": null,
   "id": "fb42b705",
   "metadata": {},
   "outputs": [],
   "source": []
  },
  {
   "cell_type": "code",
   "execution_count": null,
   "id": "1770ce95",
   "metadata": {},
   "outputs": [],
   "source": []
  }
 ],
 "metadata": {
  "kernelspec": {
   "display_name": "Python 3 (ipykernel)",
   "language": "python",
   "name": "python3"
  },
  "language_info": {
   "codemirror_mode": {
    "name": "ipython",
    "version": 3
   },
   "file_extension": ".py",
   "mimetype": "text/x-python",
   "name": "python",
   "nbconvert_exporter": "python",
   "pygments_lexer": "ipython3",
   "version": "3.11.5"
  }
 },
 "nbformat": 4,
 "nbformat_minor": 5
}
