{
 "cells": [
  {
   "cell_type": "code",
   "execution_count": 1,
   "id": "a87ffbc7",
   "metadata": {},
   "outputs": [
    {
     "name": "stdout",
     "output_type": "stream",
     "text": [
      "Running on local URL:  http://127.0.0.1:7885\n",
      "\n",
      "To create a public link, set `share=True` in `launch()`.\n"
     ]
    },
    {
     "data": {
      "text/html": [
       "<div><iframe src=\"http://127.0.0.1:7885/\" width=\"100%\" height=\"500\" allow=\"autoplay; camera; microphone; clipboard-read; clipboard-write;\" frameborder=\"0\" allowfullscreen></iframe></div>"
      ],
      "text/plain": [
       "<IPython.core.display.HTML object>"
      ]
     },
     "metadata": {},
     "output_type": "display_data"
    }
   ],
   "source": [
    "import gradio as gr\n",
    "\n",
    "css = \"\"\"\n",
    "h1 {\n",
    "    text-align: center;\n",
    "}\n",
    "\"\"\"\n",
    "\n",
    "with gr.Blocks(css=css) as demo:\n",
    "    gr.Markdown(\"# title\")\n",
    "\n",
    "if __name__ == \"__main__\":\n",
    "    demo.queue().launch()"
   ]
  },
  {
   "cell_type": "code",
   "execution_count": 2,
   "id": "e37d2146",
   "metadata": {},
   "outputs": [
    {
     "name": "stdout",
     "output_type": "stream",
     "text": [
      "Running on local URL:  http://127.0.0.1:7886\n",
      "\n",
      "To create a public link, set `share=True` in `launch()`.\n"
     ]
    },
    {
     "data": {
      "text/html": [
       "<div><iframe src=\"http://127.0.0.1:7886/\" width=\"100%\" height=\"500\" allow=\"autoplay; camera; microphone; clipboard-read; clipboard-write;\" frameborder=\"0\" allowfullscreen></iframe></div>"
      ],
      "text/plain": [
       "<IPython.core.display.HTML object>"
      ]
     },
     "metadata": {},
     "output_type": "display_data"
    }
   ],
   "source": [
    "import gradio as gr\n",
    "\n",
    "css = \"\"\"\n",
    ".gradio-container {\n",
    "background: url(https://upload.wikimedia.org/wikipedia/commons/4/49/Abstract_-_Coconut_Leaf_%28Imagicity_186%29.jpg)\n",
    "}\n",
    "\n",
    "h1 {\n",
    "    text-align: center;\n",
    "    display:block;\n",
    "    color:red;\n",
    "    font-size:50px;\n",
    "}\n",
    "\n",
    "\"\"\"\n",
    "\n",
    "with gr.Blocks(css=css) as demo:\n",
    "    gr.Markdown(\"# TITLE\")\n",
    "\n",
    "if __name__ == \"__main__\":\n",
    "    demo.queue().launch()\n"
   ]
  },
  {
   "cell_type": "code",
   "execution_count": null,
   "id": "757720c8",
   "metadata": {},
   "outputs": [
    {
     "name": "stdout",
     "output_type": "stream",
     "text": [
      "Running on local URL:  http://127.0.0.1:7887\n",
      "\n",
      "To create a public link, set `share=True` in `launch()`.\n"
     ]
    },
    {
     "data": {
      "text/html": [
       "<div><iframe src=\"http://127.0.0.1:7887/\" width=\"100%\" height=\"500\" allow=\"autoplay; camera; microphone; clipboard-read; clipboard-write;\" frameborder=\"0\" allowfullscreen></iframe></div>"
      ],
      "text/plain": [
       "<IPython.core.display.HTML object>"
      ]
     },
     "metadata": {},
     "output_type": "display_data"
    }
   ],
   "source": [
    "import gradio as gr\n",
    "\n",
    "css_code='body{background-image:url(\"https://picsum.photos/seed/picsum/200/300\");}'\n",
    "\n",
    "gr.Interface(lambda x:x, \"textbox\", \"textbox\", css=css_code).launch(debug=True)"
   ]
  },
  {
   "cell_type": "code",
   "execution_count": null,
   "id": "c0312736",
   "metadata": {},
   "outputs": [],
   "source": [
    "import gradio as gr\n",
    "import random\n",
    "import os\n",
    "\n",
    "\n",
    "def greet_number(name):\n",
    "    greeting = \"Hello \" + name\n",
    "    lucky_number = random.randint(1, 100)\n",
    "    return greeting, lucky_number\n",
    "\n",
    "\n",
    "# Get absolute path of image file\n",
    "image_path = 'E:\\Vt\\1.jpg' # Replace with your image file path\n",
    "\n",
    "absolute_path = os.path.abspath(image_path)\n",
    "\n",
    "\n",
    "demo = gr.Interface(fn=greet_number,\n",
    "                    inputs=gr.Textbox(label=\"Name\", placeholder=\"Enter Name Here\"),\n",
    "                    outputs=[gr.Textbox(label=\"Greeting\"), gr.Number(label=\"Your Lucky Number\")],\n",
    "                    title=\"GreetLucky\",\n",
    "                    css=\".gradio-container {background: url('file=image.png')}\"  # <--- set image name as 'file=*name of image file*'\n",
    "                    )\n",
    "\n",
    "# Pass absolute path of image to allowed_paths= parameter\n",
    "demo.launch(allowed_paths=[absolute_path])"
   ]
  },
  {
   "cell_type": "code",
   "execution_count": null,
   "id": "2c25b40c",
   "metadata": {},
   "outputs": [],
   "source": []
  }
 ],
 "metadata": {
  "kernelspec": {
   "display_name": "Python 3 (ipykernel)",
   "language": "python",
   "name": "python3"
  },
  "language_info": {
   "codemirror_mode": {
    "name": "ipython",
    "version": 3
   },
   "file_extension": ".py",
   "mimetype": "text/x-python",
   "name": "python",
   "nbconvert_exporter": "python",
   "pygments_lexer": "ipython3",
   "version": "3.11.5"
  }
 },
 "nbformat": 4,
 "nbformat_minor": 5
}
